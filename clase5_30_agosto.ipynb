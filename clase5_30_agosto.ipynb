{
 "cells": [
  {
   "cell_type": "markdown",
   "metadata": {},
   "source": [
    "## Ciclo for"
   ]
  },
  {
   "cell_type": "markdown",
   "metadata": {},
   "source": [
    "## 1.Investiga la función range de python y escribe un ciclo for que itere del número 0 al 1000 e imprima únicamente los múltiplos de 10 que estén en este rango."
   ]
  },
  {
   "cell_type": "code",
   "execution_count": 5,
   "metadata": {},
   "outputs": [
    {
     "name": "stdout",
     "output_type": "stream",
     "text": [
      "0\n",
      "10\n",
      "20\n",
      "30\n",
      "40\n",
      "50\n",
      "60\n",
      "70\n",
      "80\n",
      "90\n",
      "100\n",
      "110\n",
      "120\n",
      "130\n",
      "140\n",
      "150\n",
      "160\n",
      "170\n",
      "180\n",
      "190\n",
      "200\n",
      "210\n",
      "220\n",
      "230\n",
      "240\n",
      "250\n",
      "260\n",
      "270\n",
      "280\n",
      "290\n",
      "300\n",
      "310\n",
      "320\n",
      "330\n",
      "340\n",
      "350\n",
      "360\n",
      "370\n",
      "380\n",
      "390\n",
      "400\n",
      "410\n",
      "420\n",
      "430\n",
      "440\n",
      "450\n",
      "460\n",
      "470\n",
      "480\n",
      "490\n",
      "500\n",
      "510\n",
      "520\n",
      "530\n",
      "540\n",
      "550\n",
      "560\n",
      "570\n",
      "580\n",
      "590\n",
      "600\n",
      "610\n",
      "620\n",
      "630\n",
      "640\n",
      "650\n",
      "660\n",
      "670\n",
      "680\n",
      "690\n",
      "700\n",
      "710\n",
      "720\n",
      "730\n",
      "740\n",
      "750\n",
      "760\n",
      "770\n",
      "780\n",
      "790\n",
      "800\n",
      "810\n",
      "820\n",
      "830\n",
      "840\n",
      "850\n",
      "860\n",
      "870\n",
      "880\n",
      "890\n",
      "900\n",
      "910\n",
      "920\n",
      "930\n",
      "940\n",
      "950\n",
      "960\n",
      "970\n",
      "980\n",
      "990\n",
      "1000\n"
     ]
    }
   ],
   "source": [
    "for n in range(0,1001):\n",
    "    if n%10==0:\n",
    "        print(n)"
   ]
  },
  {
   "cell_type": "markdown",
   "metadata": {},
   "source": [
    "## 2.Escribe un programa que lea los nombres de N personas (utiliza ciclo while) y después imprima los nombres en orden alfabético."
   ]
  },
  {
   "cell_type": "code",
   "execution_count": 12,
   "metadata": {},
   "outputs": [
    {
     "name": "stdout",
     "output_type": "stream",
     "text": [
      "Ingresa el nombre o escribe 'salir' para terminar: z\n",
      "Ingresa el nombre o escribe 'salir' para terminar: d\n",
      "Ingresa el nombre o escribe 'salir' para terminar: r\n",
      "Ingresa el nombre o escribe 'salir' para terminar: a\n",
      "Ingresa el nombre o escribe 'salir' para terminar: o\n",
      "Ingresa el nombre o escribe 'salir' para terminar: b\n",
      "Ingresa el nombre o escribe 'salir' para terminar: salir\n",
      "Éstas son las personas en tu lista:\n",
      " ['a', 'b', 'd', 'o', 'r', 'z']\n"
     ]
    }
   ],
   "source": [
    "lista_nombres = []\n",
    "nombre = \"\"\n",
    "while nombre != \"salir\":\n",
    "    nombre = input(\"Ingresa el nombre o escribe 'salir' para terminar: \")\n",
    "    if nombre != \"salir\":\n",
    "        lista_nombres.append(nombre)\n",
    "lista_nombres.sort()\n",
    "print(\"Éstas son las personas en tu lista:\\n\", lista_nombres)"
   ]
  },
  {
   "cell_type": "markdown",
   "metadata": {},
   "source": [
    "## 3. Dada una lista de números del 1 al 100, escribe un programa que imprima 'foo' si el número divisible entre 3, 'bar' si es divisible entre 2 y '---' si no es divisible ni entre 2 ni entre 3'"
   ]
  },
  {
   "cell_type": "code",
   "execution_count": 20,
   "metadata": {},
   "outputs": [
    {
     "name": "stdout",
     "output_type": "stream",
     "text": [
      "---\n",
      "bar\n",
      "foo\n",
      "bar\n",
      "---\n",
      "foo\n",
      "---\n",
      "bar\n",
      "foo\n",
      "bar\n",
      "---\n",
      "foo\n",
      "---\n",
      "bar\n",
      "foo\n",
      "bar\n",
      "---\n",
      "foo\n",
      "---\n",
      "bar\n",
      "foo\n",
      "bar\n",
      "---\n",
      "foo\n",
      "---\n",
      "bar\n",
      "foo\n",
      "bar\n",
      "---\n",
      "foo\n",
      "---\n",
      "bar\n",
      "foo\n",
      "bar\n",
      "---\n",
      "foo\n",
      "---\n",
      "bar\n",
      "foo\n",
      "bar\n",
      "---\n",
      "foo\n",
      "---\n",
      "bar\n",
      "foo\n",
      "bar\n",
      "---\n",
      "foo\n",
      "---\n",
      "bar\n",
      "foo\n",
      "bar\n",
      "---\n",
      "foo\n",
      "---\n",
      "bar\n",
      "foo\n",
      "bar\n",
      "---\n",
      "foo\n",
      "---\n",
      "bar\n",
      "foo\n",
      "bar\n",
      "---\n",
      "foo\n",
      "---\n",
      "bar\n",
      "foo\n",
      "bar\n",
      "---\n",
      "foo\n",
      "---\n",
      "bar\n",
      "foo\n",
      "bar\n",
      "---\n",
      "foo\n",
      "---\n",
      "bar\n",
      "foo\n",
      "bar\n",
      "---\n",
      "foo\n",
      "---\n",
      "bar\n",
      "foo\n",
      "bar\n",
      "---\n",
      "foo\n",
      "---\n",
      "bar\n",
      "foo\n",
      "bar\n",
      "---\n",
      "foo\n",
      "---\n",
      "bar\n",
      "foo\n",
      "bar\n"
     ]
    }
   ],
   "source": [
    "for n in range(1,101):\n",
    "    if n%3==0:\n",
    "        print(\"foo\")\n",
    "    elif n%2==0:\n",
    "        print(\"bar\")\n",
    "    else:\n",
    "        print(\"---\")\n",
    "        "
   ]
  },
  {
   "cell_type": "markdown",
   "metadata": {},
   "source": [
    "## Funciones"
   ]
  },
  {
   "cell_type": "code",
   "execution_count": 21,
   "metadata": {},
   "outputs": [],
   "source": [
    "def checador_de_numeros(num):\n",
    "    var1 = num%2==0\n",
    "    var2 = num>100\n",
    "    return (var1,var2)"
   ]
  },
  {
   "cell_type": "code",
   "execution_count": 22,
   "metadata": {},
   "outputs": [
    {
     "data": {
      "text/plain": [
       "(True, True)"
      ]
     },
     "execution_count": 22,
     "metadata": {},
     "output_type": "execute_result"
    }
   ],
   "source": [
    "checador_de_numeros(102)"
   ]
  },
  {
   "cell_type": "code",
   "execution_count": 23,
   "metadata": {},
   "outputs": [
    {
     "data": {
      "text/plain": [
       "(False, True)"
      ]
     },
     "execution_count": 23,
     "metadata": {},
     "output_type": "execute_result"
    }
   ],
   "source": [
    "checador_de_numeros(203)"
   ]
  },
  {
   "cell_type": "code",
   "execution_count": 39,
   "metadata": {},
   "outputs": [],
   "source": [
    "def letras(nombre):\n",
    "    str1 = nombre[0]\n",
    "    ultima_letra=len(nombre)-1\n",
    "    str2 = nombre[ultima_letra]\n",
    "    return(str1,str2)"
   ]
  },
  {
   "cell_type": "code",
   "execution_count": 40,
   "metadata": {},
   "outputs": [
    {
     "data": {
      "text/plain": [
       "('K', 'a')"
      ]
     },
     "execution_count": 40,
     "metadata": {},
     "output_type": "execute_result"
    }
   ],
   "source": [
    "letras(\"Karla\")"
   ]
  },
  {
   "cell_type": "code",
   "execution_count": 41,
   "metadata": {},
   "outputs": [
    {
     "name": "stdout",
     "output_type": "stream",
     "text": [
      "Karla Pliego Moreno\n",
      "\n",
      "Natalia Rosales\n",
      "\n",
      "Paz Cuellar\n",
      "\n",
      "Gerardo Mathus\n",
      "\n",
      "Jorge Nasta\n",
      "\n",
      "Carolina Silva\n",
      "\n",
      "Natalia Gambioa\n"
     ]
    }
   ],
   "source": [
    "#abrir el archivo en modo lectura 'r'\n",
    "f = open(\"estudiantes.txt\", \"r\")\n",
    "\n",
    "#por cada linea en el archivo...\n",
    "for linea in f:\n",
    "  print(linea)\n",
    "\n",
    "#cerrar el archivo\n",
    "f.close()"
   ]
  },
  {
   "cell_type": "markdown",
   "metadata": {},
   "source": [
    "### Lee el archivo de texto en Python. Por cada línea deberás crear un diccionario que tenga las llaves iso, name y pop, y estos diccionarios deberán almacenarse en una lista con nombre paises.\n",
    "### Posteriormente, haz que tu programa le pregunte al usuario el país cuya información desea conocer. El usuario deberá ingresar un código de tres letras mayúsculas, mismas que tu programa deberá buscar en el diccionario de países. En caso de que tu diccionario cuente con la clave que el usuario proporcionó, imprime la información del país para que el usuario la pueda leer.\n",
    "### El programa deberá repetir su ejecución hasta que el usuario introduzca el texto \"END\" en lugar de un código de país."
   ]
  },
  {
   "cell_type": "code",
   "execution_count": 59,
   "metadata": {},
   "outputs": [
    {
     "name": "stdout",
     "output_type": "stream",
     "text": [
      "['CHN|China|1,398,860,000\\n']\n",
      "['IND|India|1,351,570,000\\n']\n",
      "['USA|Estados Unidos|329,799,000\\n']\n",
      "['IDN|Indonesia|268,074,600\\n']\n",
      "['OAK|PakistÃ¡n|205,821,000\\n']\n",
      "['BRA|Brasil|210,363,000\\n']\n",
      "['NER|Nigeria|200,963,599\\n']\n",
      "['BGD|Banglaesh|167,145,000\\n']\n",
      "['RUS|Rusia|146,793,744\\n']\n",
      "['MEX|MÃ©xico|126,577,691']\n"
     ]
    }
   ],
   "source": [
    "f = opoen(\"info_paises.txt\")\n",
    "paises=[]\n",
    "for linea in f:\n",
    "    valores=linea.strip().split(\"|\")\n",
    "    diccionario_pais={\n",
    "        \"iso\":valores[0],\n",
    "        \"name\":valores[1],\n",
    "    }"
   ]
  },
  {
   "cell_type": "code",
   "execution_count": null,
   "metadata": {},
   "outputs": [],
   "source": []
  }
 ],
 "metadata": {
  "kernelspec": {
   "display_name": "Python 3",
   "language": "python",
   "name": "python3"
  },
  "language_info": {
   "codemirror_mode": {
    "name": "ipython",
    "version": 3
   },
   "file_extension": ".py",
   "mimetype": "text/x-python",
   "name": "python",
   "nbconvert_exporter": "python",
   "pygments_lexer": "ipython3",
   "version": "3.7.4"
  }
 },
 "nbformat": 4,
 "nbformat_minor": 2
}
