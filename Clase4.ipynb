{
 "cells": [
  {
   "cell_type": "markdown",
   "metadata": {},
   "source": [
    "## Condicionales"
   ]
  },
  {
   "cell_type": "markdown",
   "metadata": {},
   "source": [
    "### if: \n",
    "### else:\n",
    "### elif:"
   ]
  },
  {
   "cell_type": "markdown",
   "metadata": {},
   "source": [
    "## 1. Haz un programa que lea un número entero e imprima si este es par o impar"
   ]
  },
  {
   "cell_type": "code",
   "execution_count": 8,
   "metadata": {},
   "outputs": [
    {
     "name": "stdout",
     "output_type": "stream",
     "text": [
      "número4\n",
      "el número es par\n"
     ]
    }
   ],
   "source": [
    "x = int (input(\"número\")) \n",
    "if x%2 == 0:\n",
    "    print (\"el número es par\")\n",
    "else:\n",
    "    print (\"El número es impar\")"
   ]
  },
  {
   "cell_type": "markdown",
   "metadata": {},
   "source": [
    "## Haz un programa que lea la edad de una persona e imprima si puede votar o no"
   ]
  },
  {
   "cell_type": "code",
   "execution_count": 9,
   "metadata": {},
   "outputs": [
    {
     "name": "stdout",
     "output_type": "stream",
     "text": [
      "Edad:2\n",
      "aún no puedes votar\n"
     ]
    }
   ],
   "source": [
    "edad = int(input(\"Edad:\"))\n",
    "if edad >=18:\n",
    "    print(\"puedes votar\")\n",
    "else:\n",
    "    print (\"aún no puedes votar\")"
   ]
  },
  {
   "cell_type": "code",
   "execution_count": 10,
   "metadata": {},
   "outputs": [
    {
     "name": "stdout",
     "output_type": "stream",
     "text": [
      "Edad:24\n",
      "puedes votar\n"
     ]
    }
   ],
   "source": [
    "edad = int(input(\"Edad:\"))\n",
    "if edad >=18:\n",
    "    print(\"puedes votar\")\n",
    "else:\n",
    "    print (\"aún no puedes votar\")"
   ]
  },
  {
   "cell_type": "markdown",
   "metadata": {},
   "source": [
    "## Escribe un programa que reciba las calificaciones de matemáticas, inglés, física, química y programación de un estudiante e imprima su promedio en formato de letra, en donde F es menor a 6, D es de 6 a 6.9, C es de 7 a 7.9, B es de 8 a 8.9 y A es mayor a 9.0"
   ]
  },
  {
   "cell_type": "code",
   "execution_count": 13,
   "metadata": {},
   "outputs": [
    {
     "name": "stdout",
     "output_type": "stream",
     "text": [
      "calif mate:6\n",
      "calif inglés:7\n",
      "calif fisica:9\n",
      "calif química:5\n",
      "calif programación:8\n",
      "Obtienes C\n"
     ]
    }
   ],
   "source": [
    "m = float(input(\"calif mate:\"))\n",
    "i= float(input(\"calif inglés:\"))\n",
    "f= float(input(\"calif fisica:\"))\n",
    "q= float(input(\"calif química:\"))\n",
    "p= float(input(\"calif programación:\"))\n",
    "prom = (m+i+f+q+p)/5\n",
    "\n",
    "if prom<6:\n",
    "    print(\"Obtienes F\")\n",
    "elif prom >= 6 and prom<=6.9:\n",
    "    print(\"Obtienes D\")\n",
    "elif prom >6.9 and prom<=7.9:\n",
    "    print(\"Obtienes C\")\n",
    "elif prom>7.9 and prom<=8.9:\n",
    "    print(\"Obtienes B\")\n",
    "else:\n",
    "    print(\"Obtienes A\")\n"
   ]
  },
  {
   "cell_type": "markdown",
   "metadata": {},
   "source": [
    "## ciclos:\n",
    "---\n",
    "### 1.-Escribe un programa que lea un número entero e imprima todos los valores entre 0 y el número dado. Se debe poder tanto para números positivos como negativos."
   ]
  },
  {
   "cell_type": "code",
   "execution_count": 7,
   "metadata": {},
   "outputs": [
    {
     "name": "stdout",
     "output_type": "stream",
     "text": [
      "Dame un número:-3\n",
      "0\n",
      "-1\n",
      "-2\n",
      "-3\n"
     ]
    }
   ],
   "source": [
    "n = int(input(\"Dame un número:\")) \n",
    "i=0\n",
    "\n",
    "if n>0:\n",
    "    while i<=n:\n",
    "        print(i)\n",
    "        i+=1\n",
    "if n<0:\n",
    "    while i>=n:\n",
    "        print(i)\n",
    "        i-=1"
   ]
  },
  {
   "cell_type": "markdown",
   "metadata": {},
   "source": [
    "## 2.Escribe un programa que te pida tu nombre y un número entero y después imprima un saludo a ese nombre N cantidad de veces. N siendo el número pedido."
   ]
  },
  {
   "cell_type": "code",
   "execution_count": 3,
   "metadata": {},
   "outputs": [
    {
     "name": "stdout",
     "output_type": "stream",
     "text": [
      "Dame tu nombre: karla\n",
      "Dame un número entero: 4\n",
      "Hola: karla\n",
      "Hola: karla\n",
      "Hola: karla\n",
      "Hola: karla\n",
      "Hola: karla\n"
     ]
    }
   ],
   "source": [
    "nombre = input(\"Dame tu nombre: \")\n",
    "nint = int(input(\"Dame un número entero: \"))\n",
    "i=0\n",
    "\n",
    "while i<=nint:\n",
    "    print(\"Hola:\",nombre)\n",
    "    i+=1"
   ]
  },
  {
   "cell_type": "markdown",
   "metadata": {},
   "source": [
    "## 3.Escribe un programa que vaya almacenando en una lista todos los números que ingresa el usuario hasta que éste sea -1."
   ]
  },
  {
   "cell_type": "code",
   "execution_count": 1,
   "metadata": {},
   "outputs": [
    {
     "name": "stdout",
     "output_type": "stream",
     "text": [
      "Dame un número, si quieres terminar con la lista escribe -14\n",
      "Dame un número, si quieres terminar con la lista escribe -13\n",
      "Dame un número, si quieres terminar con la lista escribe -12\n",
      "Dame un número, si quieres terminar con la lista escribe -1-1\n"
     ]
    }
   ],
   "source": [
    "lista_numeros = []\n",
    "num = 0\n",
    "\n",
    "while num != -1:\n",
    "    num = int(input(\"Dame un número, si quieres terminar con la lista escribe -1\"))\n",
    "    if num!=-1:\n",
    "        lista_numeros.append(num)"
   ]
  },
  {
   "cell_type": "code",
   "execution_count": 2,
   "metadata": {},
   "outputs": [
    {
     "data": {
      "text/plain": [
       "[4, 3, 2]"
      ]
     },
     "execution_count": 2,
     "metadata": {},
     "output_type": "execute_result"
    }
   ],
   "source": [
    "lista_numeros"
   ]
  },
  {
   "cell_type": "markdown",
   "metadata": {},
   "source": [
    "## 4.Escribe un programa que pida al usuario calificaciones. El programa deberá pedir calificaciones hasta que el usuario introduzca la palabra \"end\". Al terminar la lectura, el programa deberá imprimir la cantidad de calificaciones y el promedio de éstas."
   ]
  },
  {
   "cell_type": "code",
   "execution_count": 11,
   "metadata": {},
   "outputs": [
    {
     "name": "stdout",
     "output_type": "stream",
     "text": [
      "Dame la calificación, si terminaste escribe end:4\n",
      "Dame la calificación, si terminaste escribe end:6\n",
      "Dame la calificación, si terminaste escribe end:10\n",
      "Dame la calificación, si terminaste escribe end:end\n",
      "Total de calificaciones leídas: 3\n",
      "Promedio: 6.666666666666667\n"
     ]
    }
   ],
   "source": [
    "calificaciones=[]\n",
    "calificacion=\"\"\n",
    "suma=0\n",
    "\n",
    "while calificacion != \"end\":\n",
    "    calificacion=input(\"Dame la calificación, si terminaste escribe end:\")\n",
    "    if calificacion!=\"end\":\n",
    "        calificaciones.append(float(calificacion))\n",
    "        suma+=float(calificacion)\n",
    "total_calificaciones=len(calificaciones)\n",
    "print(\"Total de calificaciones leídas:\", total_calificaciones)\n",
    "print(\"Promedio:\", suma/total_calificaciones)\n",
    "    "
   ]
  },
  {
   "cell_type": "code",
   "execution_count": null,
   "metadata": {},
   "outputs": [],
   "source": []
  }
 ],
 "metadata": {
  "kernelspec": {
   "display_name": "Python 3",
   "language": "python",
   "name": "python3"
  },
  "language_info": {
   "codemirror_mode": {
    "name": "ipython",
    "version": 3
   },
   "file_extension": ".py",
   "mimetype": "text/x-python",
   "name": "python",
   "nbconvert_exporter": "python",
   "pygments_lexer": "ipython3",
   "version": "3.7.4"
  }
 },
 "nbformat": 4,
 "nbformat_minor": 2
}
