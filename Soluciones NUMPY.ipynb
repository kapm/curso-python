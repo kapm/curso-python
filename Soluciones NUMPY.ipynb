{
 "cells": [
  {
   "cell_type": "markdown",
   "metadata": {},
   "source": [
    "## Numpy\n",
    "### Ejercicios prácticos\n",
    "### Escribe código Python con Numpy para realizar las siguientes operaciones:\n",
    "#### 1. Determinar si ninguno de los elementos de un arreglo es cero."
   ]
  },
  {
   "cell_type": "code",
   "execution_count": 1,
   "metadata": {},
   "outputs": [],
   "source": [
    "import numpy as np"
   ]
  },
  {
   "cell_type": "code",
   "execution_count": 67,
   "metadata": {},
   "outputs": [
    {
     "name": "stdout",
     "output_type": "stream",
     "text": [
      "[1 2 3 4 5 6 0 4 3 2]\n",
      "[1 2 3 4 5 6 7 8 9]\n",
      "[[51.  2.  6.]\n",
      " [43. nan inf]\n",
      " [ 7. inf  9.]]\n",
      "[[3. 4. 6.]\n",
      " [4. 8. 6.]\n",
      " [7. 8. 9.]]\n"
     ]
    }
   ],
   "source": [
    "arr_con_ceros = np.array([1,2,3,4,5,6,0,4,3,2])\n",
    "arr_sin_ceros = np.array([1,2,3,4,5,6,7,8,9])\n",
    "list=[[51,2,6],[43,5,46],[7,88,9]]\n",
    "arr_inf_nan = np.array(list,dtype=float)\n",
    "arr_inf_nan[1,2]=np.inf\n",
    "arr_inf_nan[2,1]=np.inf\n",
    "arr_inf_nan[1,1]=np.nan\n",
    "list2=[[3,4,6],[4,8,6],[7,8,9]]\n",
    "arr2=np.array(list2,dtype=float)\n",
    "\n",
    "print(arr_con_ceros)\n",
    "print(arr_sin_ceros)\n",
    "print(arr_inf_nan)\n",
    "print(arr2)"
   ]
  },
  {
   "cell_type": "code",
   "execution_count": 68,
   "metadata": {},
   "outputs": [
    {
     "name": "stdout",
     "output_type": "stream",
     "text": [
      "ninguno de los elementos es cero? en el primer arreglo:  False\n",
      "ninguno de los elementos es cero? en el segundo arreglo:  True\n"
     ]
    }
   ],
   "source": [
    "print(\"ninguno de los elementos es cero? en el primer arreglo: \",np.all(arr_con_ceros))\n",
    "print(\"ninguno de los elementos es cero? en el segundo arreglo: \", np.all(arr_sin_ceros))"
   ]
  },
  {
   "cell_type": "markdown",
   "metadata": {},
   "source": [
    "#### 2. Determinar si un arreglo contiene algún elemnto que no sea cero."
   ]
  },
  {
   "cell_type": "markdown",
   "metadata": {},
   "source": [
    "#### 3. Analizar un arreglo de numpy y determinar en sus elementos si existen valores que sean infinitos o valores no numéricos (NaN)."
   ]
  },
  {
   "cell_type": "code",
   "execution_count": 69,
   "metadata": {},
   "outputs": [
    {
     "data": {
      "text/plain": [
       "array([[False, False, False],\n",
       "       [False,  True,  True],\n",
       "       [False,  True, False]])"
      ]
     },
     "execution_count": 69,
     "metadata": {},
     "output_type": "execute_result"
    }
   ],
   "source": [
    "valores_nan_inf=np.isnan(arr_inf_nan)|np.isinf(arr_inf_nan)\n",
    "valores_nan_inf"
   ]
  },
  {
   "cell_type": "markdown",
   "metadata": {},
   "source": [
    "#### 4. Determinar si un arreglo de Numpy contiene valores infinitos."
   ]
  },
  {
   "cell_type": "code",
   "execution_count": 70,
   "metadata": {},
   "outputs": [
    {
     "name": "stdout",
     "output_type": "stream",
     "text": [
      "este es el arreglo con inf y NAN: \n",
      " [[51.  2.  6.]\n",
      " [43. nan inf]\n",
      " [ 7. inf  9.]]\n",
      "Hay valores infinitos?:\n",
      " [[False False False]\n",
      " [False False  True]\n",
      " [False  True False]]\n"
     ]
    }
   ],
   "source": [
    "valores_inf=np.isinf(arr_inf_nan)\n",
    "print(\"este es el arreglo con inf y NAN: \\n\",arr_inf_nan)\n",
    "print(\"Hay valores infinitos?:\\n\",valores_inf)"
   ]
  },
  {
   "cell_type": "markdown",
   "metadata": {},
   "source": [
    "#### 5. Analizar un arreglo de Numpy y determinar si hay valores NaN"
   ]
  },
  {
   "cell_type": "code",
   "execution_count": 71,
   "metadata": {},
   "outputs": [
    {
     "name": "stdout",
     "output_type": "stream",
     "text": [
      "este es el arreglo con inf y NAN: \n",
      " [[51.  2.  6.]\n",
      " [43. nan inf]\n",
      " [ 7. inf  9.]]\n",
      "\n",
      " Hay valores nan?:\n",
      " [[False False False]\n",
      " [False  True False]\n",
      " [False False False]]\n"
     ]
    }
   ],
   "source": [
    "valores_inf=np.isnan(arr_inf_nan)\n",
    "print(\"este es el arreglo con inf y NAN: \\n\",arr_inf_nan)\n",
    "print(\"\\n Hay valores nan?:\\n\",valores_inf)"
   ]
  },
  {
   "cell_type": "markdown",
   "metadata": {},
   "source": [
    "#### 6. Realizar una comparación elemento a elemento de dos arreglos. Contempla mayor, mayor o igual, menor y menor o igual."
   ]
  },
  {
   "cell_type": "code",
   "execution_count": 72,
   "metadata": {},
   "outputs": [
    {
     "name": "stdout",
     "output_type": "stream",
     "text": [
      "Arreglo 1\n",
      " [[51.  2.  6.]\n",
      " [43. nan inf]\n",
      " [ 7. inf  9.]]\n",
      "\n",
      " Arreglo 2 \n",
      " [[3. 4. 6.]\n",
      " [4. 8. 6.]\n",
      " [7. 8. 9.]]\n",
      "\n",
      " Arreglo 1 mayor que arreglo 2?\n",
      " [[ True False False]\n",
      " [ True False  True]\n",
      " [False  True False]]\n"
     ]
    },
    {
     "name": "stderr",
     "output_type": "stream",
     "text": [
      "C:\\Users\\adpli\\AppData\\Roaming\\Python\\Python37\\site-packages\\ipykernel_launcher.py:3: RuntimeWarning: invalid value encountered in greater\n",
      "  This is separate from the ipykernel package so we can avoid doing imports until\n"
     ]
    }
   ],
   "source": [
    "print(\"Arreglo 1\\n\",arr_inf_nan)\n",
    "print(\"\\n Arreglo 2 \\n\",arr2)\n",
    "print(\"\\n Arreglo 1 mayor que arreglo 2?\\n\",arr_inf_nan > arr2)"
   ]
  },
  {
   "cell_type": "code",
   "execution_count": 75,
   "metadata": {},
   "outputs": [
    {
     "name": "stdout",
     "output_type": "stream",
     "text": [
      "Arreglo 1\n",
      " [[51.  2.  6.]\n",
      " [43. nan inf]\n",
      " [ 7. inf  9.]]\n",
      "\n",
      " Arreglo 2 \n",
      " [[3. 4. 6.]\n",
      " [4. 8. 6.]\n",
      " [7. 8. 9.]]\n",
      "\n",
      " Arreglo 1 mayor que arreglo 2?\n",
      " [[ True False False]\n",
      " [ True False  True]\n",
      " [False  True False]]\n",
      "\n",
      " Arreglo 1 mayor o igual que arreglo 2?\n",
      " [[ True False  True]\n",
      " [ True False  True]\n",
      " [ True  True  True]]\n",
      "\n",
      " Arreglo 1 menor que arreglo 2?\n",
      " [[False  True False]\n",
      " [False False False]\n",
      " [False False False]]\n",
      "\n",
      " Arreglo 1 mayor o igual que arreglo 2?\n",
      " [[False  True  True]\n",
      " [False False False]\n",
      " [ True False  True]]\n"
     ]
    },
    {
     "name": "stderr",
     "output_type": "stream",
     "text": [
      "C:\\Users\\adpli\\AppData\\Roaming\\Python\\Python37\\site-packages\\ipykernel_launcher.py:3: RuntimeWarning: invalid value encountered in greater\n",
      "  This is separate from the ipykernel package so we can avoid doing imports until\n",
      "C:\\Users\\adpli\\AppData\\Roaming\\Python\\Python37\\site-packages\\ipykernel_launcher.py:4: RuntimeWarning: invalid value encountered in greater_equal\n",
      "  after removing the cwd from sys.path.\n",
      "C:\\Users\\adpli\\AppData\\Roaming\\Python\\Python37\\site-packages\\ipykernel_launcher.py:5: RuntimeWarning: invalid value encountered in less\n",
      "  \"\"\"\n",
      "C:\\Users\\adpli\\AppData\\Roaming\\Python\\Python37\\site-packages\\ipykernel_launcher.py:6: RuntimeWarning: invalid value encountered in less_equal\n",
      "  \n"
     ]
    }
   ],
   "source": [
    "print(\"Arreglo 1\\n\",arr_inf_nan)\n",
    "print(\"\\n Arreglo 2 \\n\",arr2)\n",
    "print(\"\\n Arreglo 1 mayor que arreglo 2?\\n\",np.greater(arr_inf_nan,arr2))\n",
    "print(\"\\n Arreglo 1 mayor o igual que arreglo 2?\\n\",np.greater_equal(arr_inf_nan,arr2))\n",
    "print(\"\\n Arreglo 1 menor que arreglo 2?\\n\",np.less(arr_inf_nan,arr2))\n",
    "print(\"\\n Arreglo 1 mayor o igual que arreglo 2?\\n\",np.less_equal(arr_inf_nan,arr2))"
   ]
  },
  {
   "cell_type": "markdown",
   "metadata": {},
   "source": [
    "#### 7. Crear un arreglo que contenga los valores 1, 7, 13 y 105, y posteriormente determinar la cantidad de memoria que ocupa el arreglo."
   ]
  },
  {
   "cell_type": "code",
   "execution_count": 76,
   "metadata": {},
   "outputs": [
    {
     "name": "stdout",
     "output_type": "stream",
     "text": [
      "[  1   7  13 105]\n",
      "16\n"
     ]
    }
   ],
   "source": [
    "arr3=np.array([1,7,13,105])\n",
    "print(arr3)\n",
    "print(arr3.nbytes)"
   ]
  },
  {
   "cell_type": "markdown",
   "metadata": {},
   "source": [
    "#### 8. Crear un arreglo de 10 ceros; uno de 10 unos; y uno de 10 cincos."
   ]
  },
  {
   "cell_type": "code",
   "execution_count": 82,
   "metadata": {},
   "outputs": [
    {
     "name": "stdout",
     "output_type": "stream",
     "text": [
      "[0. 0. 0. 0. 0. 0. 0. 0. 0. 0.]\n",
      "[1. 1. 1. 1. 1. 1. 1. 1. 1. 1.]\n",
      "[5 5 5 5 5 5 5 5 5 5]\n"
     ]
    }
   ],
   "source": [
    "arr0s=np.zeros([10])\n",
    "arr10s=np.ones([10])\n",
    "arr5s=np.full((10),5)\n",
    "print(arr0s)\n",
    "print(arr10s)\n",
    "print(arr5s)"
   ]
  },
  {
   "cell_type": "markdown",
   "metadata": {},
   "source": [
    "#### 9. Crear un arreglo que contenga todos los números enteros entre 30 y 70."
   ]
  },
  {
   "cell_type": "code",
   "execution_count": 90,
   "metadata": {},
   "outputs": [
    {
     "name": "stdout",
     "output_type": "stream",
     "text": [
      "[30 31 32 33 34 35 36 37 38 39 40 41 42 43 44 45 46 47 48 49 50 51 52 53\n",
      " 54 55 56 57 58 59 60 61 62 63 64 65 66 67 68 69 70]\n"
     ]
    }
   ],
   "source": [
    "arreglo_enteros=np.arange(30,71,1)\n",
    "print(arreglo_enteros)"
   ]
  },
  {
   "cell_type": "markdown",
   "metadata": {},
   "source": [
    "#### 10. Crear un arreglo que contenga los números pares entre 30 y 70"
   ]
  },
  {
   "cell_type": "code",
   "execution_count": 91,
   "metadata": {},
   "outputs": [
    {
     "name": "stdout",
     "output_type": "stream",
     "text": [
      "[30 32 34 36 38 40 42 44 46 48 50 52 54 56 58 60 62 64 66 68 70]\n"
     ]
    }
   ],
   "source": [
    "arreglo_pares=np.arange(30,71,2)\n",
    "print(arreglo_pares)"
   ]
  },
  {
   "cell_type": "markdown",
   "metadata": {},
   "source": [
    "### 11. Crear una matriz identidad de 3x3"
   ]
  },
  {
   "cell_type": "code",
   "execution_count": 93,
   "metadata": {},
   "outputs": [
    {
     "data": {
      "text/plain": [
       "array([[1., 0., 0.],\n",
       "       [0., 1., 0.],\n",
       "       [0., 0., 1.]])"
      ]
     },
     "execution_count": 93,
     "metadata": {},
     "output_type": "execute_result"
    }
   ],
   "source": [
    "matriz_identidad = np.identity(3)\n",
    "matriz_identidad"
   ]
  },
  {
   "cell_type": "markdown",
   "metadata": {},
   "source": [
    "#### 12. Generar un número aleatorio entre 0 y 1"
   ]
  },
  {
   "cell_type": "code",
   "execution_count": null,
   "metadata": {},
   "outputs": [],
   "source": [
    "num_random = "
   ]
  }
 ],
 "metadata": {
  "kernelspec": {
   "display_name": "Python 3",
   "language": "python",
   "name": "python3"
  },
  "language_info": {
   "codemirror_mode": {
    "name": "ipython",
    "version": 3
   },
   "file_extension": ".py",
   "mimetype": "text/x-python",
   "name": "python",
   "nbconvert_exporter": "python",
   "pygments_lexer": "ipython3",
   "version": "3.7.4"
  }
 },
 "nbformat": 4,
 "nbformat_minor": 2
}
