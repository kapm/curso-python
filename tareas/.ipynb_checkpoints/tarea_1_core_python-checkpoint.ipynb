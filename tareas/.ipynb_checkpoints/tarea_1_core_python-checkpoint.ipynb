{
 "cells": [
  {
   "cell_type": "markdown",
   "metadata": {},
   "source": [
    "# Tarea 1 core python\n",
    "## Karla Adriana Pliego Moreno\n",
    "### 25 de agosto de 2019"
   ]
  },
  {
   "cell_type": "markdown",
   "metadata": {},
   "source": [
    "## 1. Escribe un programa que pida la edad del usuario e imprima en pantalla la edad que tendrá en el año 2050."
   ]
  },
  {
   "cell_type": "code",
   "execution_count": 6,
   "metadata": {},
   "outputs": [
    {
     "name": "stdout",
     "output_type": "stream",
     "text": [
      "¿Cuál es tu edad? 28\n",
      "tu edad en el 2050 será:  59\n"
     ]
    }
   ],
   "source": [
    "edad = int(input(\"¿Cuál es tu edad? \"))\n",
    "edad2050 = edad + 31\n",
    "print(\"tu edad en el 2050 será: \", edad2050)"
   ]
  },
  {
   "cell_type": "markdown",
   "metadata": {},
   "source": [
    "---\n",
    "## 2. Dada una lista de números, escribe un programa que pida al usuario un número e imprima True si el número que el usuario ingresa está en la lista, o False si no lo está"
   ]
  },
  {
   "cell_type": "code",
   "execution_count": 7,
   "metadata": {},
   "outputs": [
    {
     "name": "stdout",
     "output_type": "stream",
     "text": [
      "Dame un número:2\n"
     ]
    },
    {
     "data": {
      "text/plain": [
       "True"
      ]
     },
     "execution_count": 7,
     "metadata": {},
     "output_type": "execute_result"
    }
   ],
   "source": [
    "lista_numeros = [1,2,5,7,6,8,11,33,54,67,33,66,23,76,88,45,22]\n",
    "n = int(input(\"Dame un número:\"))\n",
    "n in lista_numeros"
   ]
  },
  {
   "cell_type": "code",
   "execution_count": 8,
   "metadata": {},
   "outputs": [
    {
     "name": "stdout",
     "output_type": "stream",
     "text": [
      "Dame un número:28\n"
     ]
    },
    {
     "data": {
      "text/plain": [
       "False"
      ]
     },
     "execution_count": 8,
     "metadata": {},
     "output_type": "execute_result"
    }
   ],
   "source": [
    "lista_numeros = [1,2,5,7,6,8,11,33,54,67,33,66,23,76,88,45,22]\n",
    "n = int(input(\"Dame un número:\"))\n",
    "n in lista_numeros"
   ]
  },
  {
   "cell_type": "markdown",
   "metadata": {},
   "source": [
    "---\n",
    "## 3. Escribe un programa que le pida al usuario el nombre de sus dos mejores amigos y después imprima un saludo a cada uno de estos amigos"
   ]
  },
  {
   "cell_type": "code",
   "execution_count": 11,
   "metadata": {},
   "outputs": [
    {
     "name": "stdout",
     "output_type": "stream",
     "text": [
      "Dame el nombre de tu mejor amigo:Gaby\n",
      "Dame el nombre de tu otro mejor amigoNat\n",
      "Hola Gaby y Nat !!\n"
     ]
    }
   ],
   "source": [
    "name1=input(str(\"Dame el nombre de tu mejor amigo:\"))\n",
    "name2=input(str(\"Dame el nombre de tu otro mejor amigo\"))\n",
    "print(\"Hola\",name1,\"y\",name2,\"!!\")"
   ]
  },
  {
   "cell_type": "markdown",
   "metadata": {},
   "source": [
    "---\n",
    "## 4. Escribe un programa que pida al usuario que ingrese un caracter (o sea, -, !, ., +,etc.) y un número entero. Posteriormente, imprime en pantalla el caracter que dio el usuario repetidas N veces. Siendo N el número entero que dio el usuario. "
   ]
  },
  {
   "cell_type": "code",
   "execution_count": 17,
   "metadata": {},
   "outputs": [
    {
     "name": "stdout",
     "output_type": "stream",
     "text": [
      "Dame un caracter:&\n",
      "Dame un número:8\n"
     ]
    },
    {
     "data": {
      "text/plain": [
       "'&&&&&&&&'"
      ]
     },
     "execution_count": 17,
     "metadata": {},
     "output_type": "execute_result"
    }
   ],
   "source": [
    "c = input(str(\"Dame un caracter:\"))\n",
    "n = int(input(\"Dame un número:\"))\n",
    "c*n"
   ]
  },
  {
   "cell_type": "markdown",
   "metadata": {},
   "source": [
    "---\n",
    "## 5. Escribe un programa que pida al usuario su año, mes y día de nacimiento (por separado) y posteriormente imprime su fecha de nacimiento en un solo renglón. "
   ]
  },
  {
   "cell_type": "code",
   "execution_count": null,
   "metadata": {},
   "outputs": [],
   "source": [
    "anio = int(input(\"Año de nacimiento\"))\n",
    "mes = input(str(\"Mes de naciemiento\"))\n",
    "dia = int(input(\"Día de nacimiento\"))\n",
    "print(\"Naciste el\",dia,\"de\",mes,\"de\",anio)"
   ]
  }
 ],
 "metadata": {
  "kernelspec": {
   "display_name": "Python 3",
   "language": "python",
   "name": "python3"
  },
  "language_info": {
   "codemirror_mode": {
    "name": "ipython",
    "version": 3
   },
   "file_extension": ".py",
   "mimetype": "text/x-python",
   "name": "python",
   "nbconvert_exporter": "python",
   "pygments_lexer": "ipython3",
   "version": "3.7.4"
  }
 },
 "nbformat": 4,
 "nbformat_minor": 2
}
