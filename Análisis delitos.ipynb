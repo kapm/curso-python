{
 "cells": [
  {
   "cell_type": "code",
   "execution_count": 5,
   "metadata": {},
   "outputs": [],
   "source": [
    "import numpy as np\n",
    "import matplotlib.pyplot as plt\n",
    "import pandas as pd"
   ]
  },
  {
   "cell_type": "code",
   "execution_count": 6,
   "metadata": {},
   "outputs": [],
   "source": [
    "df = pd.read_csv(\"data/delitos.csv\")"
   ]
  },
  {
   "cell_type": "code",
   "execution_count": 7,
   "metadata": {},
   "outputs": [
    {
     "data": {
      "text/html": [
       "<div>\n",
       "<style scoped>\n",
       "    .dataframe tbody tr th:only-of-type {\n",
       "        vertical-align: middle;\n",
       "    }\n",
       "\n",
       "    .dataframe tbody tr th {\n",
       "        vertical-align: top;\n",
       "    }\n",
       "\n",
       "    .dataframe thead th {\n",
       "        text-align: right;\n",
       "    }\n",
       "</style>\n",
       "<table border=\"1\" class=\"dataframe\">\n",
       "  <thead>\n",
       "    <tr style=\"text-align: right;\">\n",
       "      <th></th>\n",
       "      <th>anio</th>\n",
       "      <th>mes</th>\n",
       "      <th>clave_entidad</th>\n",
       "      <th>entidad</th>\n",
       "      <th>clave_municipio</th>\n",
       "      <th>municipio</th>\n",
       "      <th>tipo_delito</th>\n",
       "      <th>subtipo_delito</th>\n",
       "      <th>frecuencia</th>\n",
       "    </tr>\n",
       "  </thead>\n",
       "  <tbody>\n",
       "    <tr>\n",
       "      <td>0</td>\n",
       "      <td>2015</td>\n",
       "      <td>1</td>\n",
       "      <td>1</td>\n",
       "      <td>Aguascalientes</td>\n",
       "      <td>1001</td>\n",
       "      <td>Aguascalientes</td>\n",
       "      <td>Homicidio</td>\n",
       "      <td>Homicidio doloso</td>\n",
       "      <td>2</td>\n",
       "    </tr>\n",
       "    <tr>\n",
       "      <td>1</td>\n",
       "      <td>2015</td>\n",
       "      <td>1</td>\n",
       "      <td>1</td>\n",
       "      <td>Aguascalientes</td>\n",
       "      <td>1001</td>\n",
       "      <td>Aguascalientes</td>\n",
       "      <td>Homicidio</td>\n",
       "      <td>Homicidio doloso</td>\n",
       "      <td>1</td>\n",
       "    </tr>\n",
       "    <tr>\n",
       "      <td>2</td>\n",
       "      <td>2015</td>\n",
       "      <td>1</td>\n",
       "      <td>1</td>\n",
       "      <td>Aguascalientes</td>\n",
       "      <td>1001</td>\n",
       "      <td>Aguascalientes</td>\n",
       "      <td>Homicidio</td>\n",
       "      <td>Homicidio doloso</td>\n",
       "      <td>0</td>\n",
       "    </tr>\n",
       "    <tr>\n",
       "      <td>3</td>\n",
       "      <td>2015</td>\n",
       "      <td>1</td>\n",
       "      <td>1</td>\n",
       "      <td>Aguascalientes</td>\n",
       "      <td>1001</td>\n",
       "      <td>Aguascalientes</td>\n",
       "      <td>Homicidio</td>\n",
       "      <td>Homicidio doloso</td>\n",
       "      <td>1</td>\n",
       "    </tr>\n",
       "    <tr>\n",
       "      <td>4</td>\n",
       "      <td>2015</td>\n",
       "      <td>1</td>\n",
       "      <td>1</td>\n",
       "      <td>Aguascalientes</td>\n",
       "      <td>1001</td>\n",
       "      <td>Aguascalientes</td>\n",
       "      <td>Homicidio</td>\n",
       "      <td>Homicidio culposo</td>\n",
       "      <td>0</td>\n",
       "    </tr>\n",
       "  </tbody>\n",
       "</table>\n",
       "</div>"
      ],
      "text/plain": [
       "   anio  mes  clave_entidad         entidad  clave_municipio       municipio  \\\n",
       "0  2015    1              1  Aguascalientes             1001  Aguascalientes   \n",
       "1  2015    1              1  Aguascalientes             1001  Aguascalientes   \n",
       "2  2015    1              1  Aguascalientes             1001  Aguascalientes   \n",
       "3  2015    1              1  Aguascalientes             1001  Aguascalientes   \n",
       "4  2015    1              1  Aguascalientes             1001  Aguascalientes   \n",
       "\n",
       "  tipo_delito     subtipo_delito  frecuencia  \n",
       "0   Homicidio   Homicidio doloso           2  \n",
       "1   Homicidio   Homicidio doloso           1  \n",
       "2   Homicidio   Homicidio doloso           0  \n",
       "3   Homicidio   Homicidio doloso           1  \n",
       "4   Homicidio  Homicidio culposo           0  "
      ]
     },
     "execution_count": 7,
     "metadata": {},
     "output_type": "execute_result"
    }
   ],
   "source": [
    "df.head()"
   ]
  },
  {
   "cell_type": "code",
   "execution_count": 8,
   "metadata": {},
   "outputs": [
    {
     "data": {
      "text/html": [
       "<div>\n",
       "<style scoped>\n",
       "    .dataframe tbody tr th:only-of-type {\n",
       "        vertical-align: middle;\n",
       "    }\n",
       "\n",
       "    .dataframe tbody tr th {\n",
       "        vertical-align: top;\n",
       "    }\n",
       "\n",
       "    .dataframe thead th {\n",
       "        text-align: right;\n",
       "    }\n",
       "</style>\n",
       "<table border=\"1\" class=\"dataframe\">\n",
       "  <thead>\n",
       "    <tr style=\"text-align: right;\">\n",
       "      <th></th>\n",
       "      <th>anio</th>\n",
       "      <th>mes</th>\n",
       "      <th>clave_entidad</th>\n",
       "      <th>clave_municipio</th>\n",
       "      <th>frecuencia</th>\n",
       "    </tr>\n",
       "  </thead>\n",
       "  <tbody>\n",
       "    <tr>\n",
       "      <td>count</td>\n",
       "      <td>1.204273e+07</td>\n",
       "      <td>1.204273e+07</td>\n",
       "      <td>1.204273e+07</td>\n",
       "      <td>1.204273e+07</td>\n",
       "      <td>1.204273e+07</td>\n",
       "    </tr>\n",
       "    <tr>\n",
       "      <td>mean</td>\n",
       "      <td>2.016957e+03</td>\n",
       "      <td>6.148106e+00</td>\n",
       "      <td>1.918477e+01</td>\n",
       "      <td>1.927802e+04</td>\n",
       "      <td>6.795043e-01</td>\n",
       "    </tr>\n",
       "    <tr>\n",
       "      <td>std</td>\n",
       "      <td>1.321107e+00</td>\n",
       "      <td>3.399741e+00</td>\n",
       "      <td>7.718171e+00</td>\n",
       "      <td>7.733396e+03</td>\n",
       "      <td>8.113248e+00</td>\n",
       "    </tr>\n",
       "    <tr>\n",
       "      <td>min</td>\n",
       "      <td>2.015000e+03</td>\n",
       "      <td>1.000000e+00</td>\n",
       "      <td>1.000000e+00</td>\n",
       "      <td>1.001000e+03</td>\n",
       "      <td>-1.000000e+00</td>\n",
       "    </tr>\n",
       "    <tr>\n",
       "      <td>25%</td>\n",
       "      <td>2.016000e+03</td>\n",
       "      <td>3.000000e+00</td>\n",
       "      <td>1.400000e+01</td>\n",
       "      <td>1.402500e+04</td>\n",
       "      <td>0.000000e+00</td>\n",
       "    </tr>\n",
       "    <tr>\n",
       "      <td>50%</td>\n",
       "      <td>2.017000e+03</td>\n",
       "      <td>6.000000e+00</td>\n",
       "      <td>2.000000e+01</td>\n",
       "      <td>2.019200e+04</td>\n",
       "      <td>0.000000e+00</td>\n",
       "    </tr>\n",
       "    <tr>\n",
       "      <td>75%</td>\n",
       "      <td>2.018000e+03</td>\n",
       "      <td>9.000000e+00</td>\n",
       "      <td>2.600000e+01</td>\n",
       "      <td>2.601400e+04</td>\n",
       "      <td>0.000000e+00</td>\n",
       "    </tr>\n",
       "    <tr>\n",
       "      <td>max</td>\n",
       "      <td>2.019000e+03</td>\n",
       "      <td>1.200000e+01</td>\n",
       "      <td>3.200000e+01</td>\n",
       "      <td>3.205800e+04</td>\n",
       "      <td>1.219000e+03</td>\n",
       "    </tr>\n",
       "  </tbody>\n",
       "</table>\n",
       "</div>"
      ],
      "text/plain": [
       "               anio           mes  clave_entidad  clave_municipio  \\\n",
       "count  1.204273e+07  1.204273e+07   1.204273e+07     1.204273e+07   \n",
       "mean   2.016957e+03  6.148106e+00   1.918477e+01     1.927802e+04   \n",
       "std    1.321107e+00  3.399741e+00   7.718171e+00     7.733396e+03   \n",
       "min    2.015000e+03  1.000000e+00   1.000000e+00     1.001000e+03   \n",
       "25%    2.016000e+03  3.000000e+00   1.400000e+01     1.402500e+04   \n",
       "50%    2.017000e+03  6.000000e+00   2.000000e+01     2.019200e+04   \n",
       "75%    2.018000e+03  9.000000e+00   2.600000e+01     2.601400e+04   \n",
       "max    2.019000e+03  1.200000e+01   3.200000e+01     3.205800e+04   \n",
       "\n",
       "         frecuencia  \n",
       "count  1.204273e+07  \n",
       "mean   6.795043e-01  \n",
       "std    8.113248e+00  \n",
       "min   -1.000000e+00  \n",
       "25%    0.000000e+00  \n",
       "50%    0.000000e+00  \n",
       "75%    0.000000e+00  \n",
       "max    1.219000e+03  "
      ]
     },
     "execution_count": 8,
     "metadata": {},
     "output_type": "execute_result"
    }
   ],
   "source": [
    "df.describe()"
   ]
  },
  {
   "cell_type": "code",
   "execution_count": 9,
   "metadata": {},
   "outputs": [
    {
     "name": "stdout",
     "output_type": "stream",
     "text": [
      "<class 'pandas.core.frame.DataFrame'>\n",
      "RangeIndex: 12042730 entries, 0 to 12042729\n",
      "Data columns (total 9 columns):\n",
      "anio               int64\n",
      "mes                int64\n",
      "clave_entidad      int64\n",
      "entidad            object\n",
      "clave_municipio    int64\n",
      "municipio          object\n",
      "tipo_delito        object\n",
      "subtipo_delito     object\n",
      "frecuencia         int64\n",
      "dtypes: int64(5), object(4)\n",
      "memory usage: 826.9+ MB\n"
     ]
    }
   ],
   "source": [
    "df.info()"
   ]
  },
  {
   "cell_type": "markdown",
   "metadata": {},
   "source": [
    "### 1.- ¿Cuántas filas tiene la base de datos?"
   ]
  },
  {
   "cell_type": "code",
   "execution_count": 10,
   "metadata": {},
   "outputs": [
    {
     "data": {
      "text/plain": [
       "12042730"
      ]
     },
     "execution_count": 10,
     "metadata": {},
     "output_type": "execute_result"
    }
   ],
   "source": [
    "len(df)"
   ]
  },
  {
   "cell_type": "markdown",
   "metadata": {},
   "source": [
    "### 2.- ¿Cuántas columnas?"
   ]
  },
  {
   "cell_type": "code",
   "execution_count": 11,
   "metadata": {},
   "outputs": [
    {
     "data": {
      "text/plain": [
       "9"
      ]
     },
     "execution_count": 11,
     "metadata": {},
     "output_type": "execute_result"
    }
   ],
   "source": [
    "len(df.columns)"
   ]
  },
  {
   "cell_type": "markdown",
   "metadata": {},
   "source": [
    "### 3.- ¿Cuántos homicidios hubo en Colima en 2018?"
   ]
  },
  {
   "cell_type": "code",
   "execution_count": 12,
   "metadata": {},
   "outputs": [
    {
     "data": {
      "text/html": [
       "<div>\n",
       "<style scoped>\n",
       "    .dataframe tbody tr th:only-of-type {\n",
       "        vertical-align: middle;\n",
       "    }\n",
       "\n",
       "    .dataframe tbody tr th {\n",
       "        vertical-align: top;\n",
       "    }\n",
       "\n",
       "    .dataframe thead th {\n",
       "        text-align: right;\n",
       "    }\n",
       "</style>\n",
       "<table border=\"1\" class=\"dataframe\">\n",
       "  <thead>\n",
       "    <tr style=\"text-align: right;\">\n",
       "      <th></th>\n",
       "      <th>anio</th>\n",
       "      <th>mes</th>\n",
       "      <th>clave_entidad</th>\n",
       "      <th>entidad</th>\n",
       "      <th>clave_municipio</th>\n",
       "      <th>municipio</th>\n",
       "      <th>tipo_delito</th>\n",
       "      <th>subtipo_delito</th>\n",
       "      <th>frecuencia</th>\n",
       "    </tr>\n",
       "  </thead>\n",
       "  <tbody>\n",
       "    <tr>\n",
       "      <td>0</td>\n",
       "      <td>2015</td>\n",
       "      <td>1</td>\n",
       "      <td>1</td>\n",
       "      <td>Aguascalientes</td>\n",
       "      <td>1001</td>\n",
       "      <td>Aguascalientes</td>\n",
       "      <td>Homicidio</td>\n",
       "      <td>Homicidio doloso</td>\n",
       "      <td>2</td>\n",
       "    </tr>\n",
       "    <tr>\n",
       "      <td>1</td>\n",
       "      <td>2015</td>\n",
       "      <td>1</td>\n",
       "      <td>1</td>\n",
       "      <td>Aguascalientes</td>\n",
       "      <td>1001</td>\n",
       "      <td>Aguascalientes</td>\n",
       "      <td>Homicidio</td>\n",
       "      <td>Homicidio doloso</td>\n",
       "      <td>1</td>\n",
       "    </tr>\n",
       "    <tr>\n",
       "      <td>2</td>\n",
       "      <td>2015</td>\n",
       "      <td>1</td>\n",
       "      <td>1</td>\n",
       "      <td>Aguascalientes</td>\n",
       "      <td>1001</td>\n",
       "      <td>Aguascalientes</td>\n",
       "      <td>Homicidio</td>\n",
       "      <td>Homicidio doloso</td>\n",
       "      <td>0</td>\n",
       "    </tr>\n",
       "    <tr>\n",
       "      <td>3</td>\n",
       "      <td>2015</td>\n",
       "      <td>1</td>\n",
       "      <td>1</td>\n",
       "      <td>Aguascalientes</td>\n",
       "      <td>1001</td>\n",
       "      <td>Aguascalientes</td>\n",
       "      <td>Homicidio</td>\n",
       "      <td>Homicidio doloso</td>\n",
       "      <td>1</td>\n",
       "    </tr>\n",
       "    <tr>\n",
       "      <td>4</td>\n",
       "      <td>2015</td>\n",
       "      <td>1</td>\n",
       "      <td>1</td>\n",
       "      <td>Aguascalientes</td>\n",
       "      <td>1001</td>\n",
       "      <td>Aguascalientes</td>\n",
       "      <td>Homicidio</td>\n",
       "      <td>Homicidio culposo</td>\n",
       "      <td>0</td>\n",
       "    </tr>\n",
       "  </tbody>\n",
       "</table>\n",
       "</div>"
      ],
      "text/plain": [
       "   anio  mes  clave_entidad         entidad  clave_municipio       municipio  \\\n",
       "0  2015    1              1  Aguascalientes             1001  Aguascalientes   \n",
       "1  2015    1              1  Aguascalientes             1001  Aguascalientes   \n",
       "2  2015    1              1  Aguascalientes             1001  Aguascalientes   \n",
       "3  2015    1              1  Aguascalientes             1001  Aguascalientes   \n",
       "4  2015    1              1  Aguascalientes             1001  Aguascalientes   \n",
       "\n",
       "  tipo_delito     subtipo_delito  frecuencia  \n",
       "0   Homicidio   Homicidio doloso           2  \n",
       "1   Homicidio   Homicidio doloso           1  \n",
       "2   Homicidio   Homicidio doloso           0  \n",
       "3   Homicidio   Homicidio doloso           1  \n",
       "4   Homicidio  Homicidio culposo           0  "
      ]
     },
     "execution_count": 12,
     "metadata": {},
     "output_type": "execute_result"
    }
   ],
   "source": [
    "df.head()"
   ]
  },
  {
   "cell_type": "code",
   "execution_count": 13,
   "metadata": {},
   "outputs": [
    {
     "data": {
      "text/html": [
       "<div>\n",
       "<style scoped>\n",
       "    .dataframe tbody tr th:only-of-type {\n",
       "        vertical-align: middle;\n",
       "    }\n",
       "\n",
       "    .dataframe tbody tr th {\n",
       "        vertical-align: top;\n",
       "    }\n",
       "\n",
       "    .dataframe thead th {\n",
       "        text-align: right;\n",
       "    }\n",
       "</style>\n",
       "<table border=\"1\" class=\"dataframe\">\n",
       "  <thead>\n",
       "    <tr style=\"text-align: right;\">\n",
       "      <th></th>\n",
       "      <th>anio</th>\n",
       "      <th>mes</th>\n",
       "      <th>clave_entidad</th>\n",
       "      <th>entidad</th>\n",
       "      <th>clave_municipio</th>\n",
       "      <th>municipio</th>\n",
       "      <th>tipo_delito</th>\n",
       "      <th>subtipo_delito</th>\n",
       "      <th>frecuencia</th>\n",
       "    </tr>\n",
       "  </thead>\n",
       "  <tbody>\n",
       "    <tr>\n",
       "      <td>6860</td>\n",
       "      <td>2015</td>\n",
       "      <td>1</td>\n",
       "      <td>6</td>\n",
       "      <td>Colima</td>\n",
       "      <td>6001</td>\n",
       "      <td>Armería</td>\n",
       "      <td>Homicidio</td>\n",
       "      <td>Homicidio doloso</td>\n",
       "      <td>1</td>\n",
       "    </tr>\n",
       "    <tr>\n",
       "      <td>6861</td>\n",
       "      <td>2015</td>\n",
       "      <td>1</td>\n",
       "      <td>6</td>\n",
       "      <td>Colima</td>\n",
       "      <td>6001</td>\n",
       "      <td>Armería</td>\n",
       "      <td>Homicidio</td>\n",
       "      <td>Homicidio doloso</td>\n",
       "      <td>0</td>\n",
       "    </tr>\n",
       "    <tr>\n",
       "      <td>6862</td>\n",
       "      <td>2015</td>\n",
       "      <td>1</td>\n",
       "      <td>6</td>\n",
       "      <td>Colima</td>\n",
       "      <td>6001</td>\n",
       "      <td>Armería</td>\n",
       "      <td>Homicidio</td>\n",
       "      <td>Homicidio doloso</td>\n",
       "      <td>0</td>\n",
       "    </tr>\n",
       "    <tr>\n",
       "      <td>6863</td>\n",
       "      <td>2015</td>\n",
       "      <td>1</td>\n",
       "      <td>6</td>\n",
       "      <td>Colima</td>\n",
       "      <td>6001</td>\n",
       "      <td>Armería</td>\n",
       "      <td>Homicidio</td>\n",
       "      <td>Homicidio doloso</td>\n",
       "      <td>0</td>\n",
       "    </tr>\n",
       "    <tr>\n",
       "      <td>6864</td>\n",
       "      <td>2015</td>\n",
       "      <td>1</td>\n",
       "      <td>6</td>\n",
       "      <td>Colima</td>\n",
       "      <td>6001</td>\n",
       "      <td>Armería</td>\n",
       "      <td>Homicidio</td>\n",
       "      <td>Homicidio culposo</td>\n",
       "      <td>0</td>\n",
       "    </tr>\n",
       "  </tbody>\n",
       "</table>\n",
       "</div>"
      ],
      "text/plain": [
       "      anio  mes  clave_entidad entidad  clave_municipio municipio tipo_delito  \\\n",
       "6860  2015    1              6  Colima             6001   Armería   Homicidio   \n",
       "6861  2015    1              6  Colima             6001   Armería   Homicidio   \n",
       "6862  2015    1              6  Colima             6001   Armería   Homicidio   \n",
       "6863  2015    1              6  Colima             6001   Armería   Homicidio   \n",
       "6864  2015    1              6  Colima             6001   Armería   Homicidio   \n",
       "\n",
       "         subtipo_delito  frecuencia  \n",
       "6860   Homicidio doloso           1  \n",
       "6861   Homicidio doloso           0  \n",
       "6862   Homicidio doloso           0  \n",
       "6863   Homicidio doloso           0  \n",
       "6864  Homicidio culposo           0  "
      ]
     },
     "execution_count": 13,
     "metadata": {},
     "output_type": "execute_result"
    }
   ],
   "source": [
    "colima=df[df.entidad==\"Colima\"]\n",
    "colima.head()"
   ]
  },
  {
   "cell_type": "code",
   "execution_count": 14,
   "metadata": {},
   "outputs": [
    {
     "data": {
      "text/plain": [
       "array(['Homicidio', 'Lesiones', 'Feminicidio', 'Aborto',\n",
       "       'Otros delitos que atentan contra la vida y la integridad corporal',\n",
       "       'Secuestro', 'Tráfico de menores', 'Rapto',\n",
       "       'Otros delitos que atentan contra la libertad personal',\n",
       "       'Abuso sexual', 'Acoso sexual', 'Hostigamiento sexual',\n",
       "       'Violación simple', 'Violación equiparada', 'Incesto',\n",
       "       'Otros delitos que atentan contra la libertad y la seguridad sexual',\n",
       "       'Robo', 'Fraude', 'Abuso de confianza', 'Extorsión',\n",
       "       'Daño a la propiedad', 'Despojo',\n",
       "       'Otros delitos contra el patrimonio', 'Violencia familiar',\n",
       "       'Violencia de género en todas sus modalidades distinta a la violencia familiar',\n",
       "       'Incumplimiento de obligaciones de asistencia familiar',\n",
       "       'Otros delitos contra la familia', 'Corrupción de menores',\n",
       "       'Trata de personas', 'Otros delitos contra la sociedad',\n",
       "       'Narcomenudeo', 'Amenazas', 'Allanamiento de morada',\n",
       "       'Evasión de presos', 'Falsedad', 'Falsificación',\n",
       "       'Contra el medio ambiente',\n",
       "       'Delitos cometidos por servidores públicos', 'Electorales',\n",
       "       'Otros delitos del Fuero Común'], dtype=object)"
      ]
     },
     "execution_count": 14,
     "metadata": {},
     "output_type": "execute_result"
    }
   ],
   "source": [
    "colima.tipo_delito.unique()"
   ]
  },
  {
   "cell_type": "code",
   "execution_count": 15,
   "metadata": {},
   "outputs": [
    {
     "data": {
      "text/plain": [
       "array(['Homicidio doloso', 'Homicidio culposo', 'Lesiones dolosas',\n",
       "       'Lesiones culposas', 'Feminicidio', 'Aborto',\n",
       "       'Otros delitos que atentan contra la vida y la integridad corporal',\n",
       "       'Secuestro', 'Tráfico de menores', 'Rapto',\n",
       "       'Otros delitos que atentan contra la libertad personal',\n",
       "       'Abuso sexual', 'Acoso sexual', 'Hostigamiento sexual',\n",
       "       'Violación simple', 'Violación equiparada', 'Incesto',\n",
       "       'Otros delitos que atentan contra la libertad y la seguridad sexual',\n",
       "       'Robo a casa habitación', 'Robo de vehículo automotor',\n",
       "       'Robo de autopartes', 'Robo a transportista',\n",
       "       'Robo a transeúnte en vía pública',\n",
       "       'Robo a transeúnte en espacio abierto al público',\n",
       "       'Robo en transporte público individual',\n",
       "       'Robo en transporte público colectivo',\n",
       "       'Robo en transporte individual', 'Robo a institución bancaria',\n",
       "       'Robo a negocio', 'Robo de ganado', 'Robo de maquinaria',\n",
       "       'Otros robos', 'Fraude', 'Abuso de confianza', 'Extorsión',\n",
       "       'Daño a la propiedad', 'Despojo',\n",
       "       'Otros delitos contra el patrimonio', 'Violencia familiar',\n",
       "       'Violencia de género en todas sus modalidades distinta a la violencia familiar',\n",
       "       'Incumplimiento de obligaciones de asistencia familiar',\n",
       "       'Otros delitos contra la familia', 'Corrupción de menores',\n",
       "       'Trata de personas', 'Otros delitos contra la sociedad',\n",
       "       'Narcomenudeo', 'Amenazas', 'Allanamiento de morada',\n",
       "       'Evasión de presos', 'Falsedad', 'Falsificación',\n",
       "       'Contra el medio ambiente',\n",
       "       'Delitos cometidos por servidores públicos', 'Electorales',\n",
       "       'Otros delitos del Fuero Común'], dtype=object)"
      ]
     },
     "execution_count": 15,
     "metadata": {},
     "output_type": "execute_result"
    }
   ],
   "source": [
    "colima.subtipo_delito.unique()"
   ]
  },
  {
   "cell_type": "code",
   "execution_count": 16,
   "metadata": {},
   "outputs": [
    {
     "data": {
      "text/html": [
       "<div>\n",
       "<style scoped>\n",
       "    .dataframe tbody tr th:only-of-type {\n",
       "        vertical-align: middle;\n",
       "    }\n",
       "\n",
       "    .dataframe tbody tr th {\n",
       "        vertical-align: top;\n",
       "    }\n",
       "\n",
       "    .dataframe thead th {\n",
       "        text-align: right;\n",
       "    }\n",
       "</style>\n",
       "<table border=\"1\" class=\"dataframe\">\n",
       "  <thead>\n",
       "    <tr style=\"text-align: right;\">\n",
       "      <th></th>\n",
       "      <th>anio</th>\n",
       "      <th>mes</th>\n",
       "      <th>clave_entidad</th>\n",
       "      <th>entidad</th>\n",
       "      <th>clave_municipio</th>\n",
       "      <th>municipio</th>\n",
       "      <th>tipo_delito</th>\n",
       "      <th>subtipo_delito</th>\n",
       "      <th>frecuencia</th>\n",
       "    </tr>\n",
       "  </thead>\n",
       "  <tbody>\n",
       "    <tr>\n",
       "      <td>6860</td>\n",
       "      <td>2015</td>\n",
       "      <td>1</td>\n",
       "      <td>6</td>\n",
       "      <td>Colima</td>\n",
       "      <td>6001</td>\n",
       "      <td>Armería</td>\n",
       "      <td>Homicidio</td>\n",
       "      <td>Homicidio doloso</td>\n",
       "      <td>1</td>\n",
       "    </tr>\n",
       "    <tr>\n",
       "      <td>6861</td>\n",
       "      <td>2015</td>\n",
       "      <td>1</td>\n",
       "      <td>6</td>\n",
       "      <td>Colima</td>\n",
       "      <td>6001</td>\n",
       "      <td>Armería</td>\n",
       "      <td>Homicidio</td>\n",
       "      <td>Homicidio doloso</td>\n",
       "      <td>0</td>\n",
       "    </tr>\n",
       "    <tr>\n",
       "      <td>6862</td>\n",
       "      <td>2015</td>\n",
       "      <td>1</td>\n",
       "      <td>6</td>\n",
       "      <td>Colima</td>\n",
       "      <td>6001</td>\n",
       "      <td>Armería</td>\n",
       "      <td>Homicidio</td>\n",
       "      <td>Homicidio doloso</td>\n",
       "      <td>0</td>\n",
       "    </tr>\n",
       "    <tr>\n",
       "      <td>6863</td>\n",
       "      <td>2015</td>\n",
       "      <td>1</td>\n",
       "      <td>6</td>\n",
       "      <td>Colima</td>\n",
       "      <td>6001</td>\n",
       "      <td>Armería</td>\n",
       "      <td>Homicidio</td>\n",
       "      <td>Homicidio doloso</td>\n",
       "      <td>0</td>\n",
       "    </tr>\n",
       "    <tr>\n",
       "      <td>6958</td>\n",
       "      <td>2015</td>\n",
       "      <td>1</td>\n",
       "      <td>6</td>\n",
       "      <td>Colima</td>\n",
       "      <td>6002</td>\n",
       "      <td>Colima</td>\n",
       "      <td>Homicidio</td>\n",
       "      <td>Homicidio doloso</td>\n",
       "      <td>0</td>\n",
       "    </tr>\n",
       "  </tbody>\n",
       "</table>\n",
       "</div>"
      ],
      "text/plain": [
       "      anio  mes  clave_entidad entidad  clave_municipio municipio tipo_delito  \\\n",
       "6860  2015    1              6  Colima             6001   Armería   Homicidio   \n",
       "6861  2015    1              6  Colima             6001   Armería   Homicidio   \n",
       "6862  2015    1              6  Colima             6001   Armería   Homicidio   \n",
       "6863  2015    1              6  Colima             6001   Armería   Homicidio   \n",
       "6958  2015    1              6  Colima             6002    Colima   Homicidio   \n",
       "\n",
       "        subtipo_delito  frecuencia  \n",
       "6860  Homicidio doloso           1  \n",
       "6861  Homicidio doloso           0  \n",
       "6862  Homicidio doloso           0  \n",
       "6863  Homicidio doloso           0  \n",
       "6958  Homicidio doloso           0  "
      ]
     },
     "execution_count": 16,
     "metadata": {},
     "output_type": "execute_result"
    }
   ],
   "source": [
    "colima_hom=colima[colima.subtipo_delito==\"Homicidio doloso\"]\n",
    "colima_hom.head()"
   ]
  },
  {
   "cell_type": "code",
   "execution_count": 17,
   "metadata": {},
   "outputs": [
    {
     "data": {
      "text/html": [
       "<div>\n",
       "<style scoped>\n",
       "    .dataframe tbody tr th:only-of-type {\n",
       "        vertical-align: middle;\n",
       "    }\n",
       "\n",
       "    .dataframe tbody tr th {\n",
       "        vertical-align: top;\n",
       "    }\n",
       "\n",
       "    .dataframe thead th {\n",
       "        text-align: right;\n",
       "    }\n",
       "</style>\n",
       "<table border=\"1\" class=\"dataframe\">\n",
       "  <thead>\n",
       "    <tr style=\"text-align: right;\">\n",
       "      <th></th>\n",
       "      <th>anio</th>\n",
       "      <th>mes</th>\n",
       "      <th>clave_entidad</th>\n",
       "      <th>entidad</th>\n",
       "      <th>clave_municipio</th>\n",
       "      <th>municipio</th>\n",
       "      <th>tipo_delito</th>\n",
       "      <th>subtipo_delito</th>\n",
       "      <th>frecuencia</th>\n",
       "    </tr>\n",
       "  </thead>\n",
       "  <tbody>\n",
       "    <tr>\n",
       "      <td>11808219</td>\n",
       "      <td>2018</td>\n",
       "      <td>12</td>\n",
       "      <td>6</td>\n",
       "      <td>Colima</td>\n",
       "      <td>6009</td>\n",
       "      <td>Tecomán</td>\n",
       "      <td>Homicidio</td>\n",
       "      <td>Homicidio doloso</td>\n",
       "      <td>0</td>\n",
       "    </tr>\n",
       "    <tr>\n",
       "      <td>11808314</td>\n",
       "      <td>2018</td>\n",
       "      <td>12</td>\n",
       "      <td>6</td>\n",
       "      <td>Colima</td>\n",
       "      <td>6010</td>\n",
       "      <td>Villa de Álvarez</td>\n",
       "      <td>Homicidio</td>\n",
       "      <td>Homicidio doloso</td>\n",
       "      <td>3</td>\n",
       "    </tr>\n",
       "    <tr>\n",
       "      <td>11808315</td>\n",
       "      <td>2018</td>\n",
       "      <td>12</td>\n",
       "      <td>6</td>\n",
       "      <td>Colima</td>\n",
       "      <td>6010</td>\n",
       "      <td>Villa de Álvarez</td>\n",
       "      <td>Homicidio</td>\n",
       "      <td>Homicidio doloso</td>\n",
       "      <td>2</td>\n",
       "    </tr>\n",
       "    <tr>\n",
       "      <td>11808316</td>\n",
       "      <td>2018</td>\n",
       "      <td>12</td>\n",
       "      <td>6</td>\n",
       "      <td>Colima</td>\n",
       "      <td>6010</td>\n",
       "      <td>Villa de Álvarez</td>\n",
       "      <td>Homicidio</td>\n",
       "      <td>Homicidio doloso</td>\n",
       "      <td>0</td>\n",
       "    </tr>\n",
       "    <tr>\n",
       "      <td>11808317</td>\n",
       "      <td>2018</td>\n",
       "      <td>12</td>\n",
       "      <td>6</td>\n",
       "      <td>Colima</td>\n",
       "      <td>6010</td>\n",
       "      <td>Villa de Álvarez</td>\n",
       "      <td>Homicidio</td>\n",
       "      <td>Homicidio doloso</td>\n",
       "      <td>0</td>\n",
       "    </tr>\n",
       "  </tbody>\n",
       "</table>\n",
       "</div>"
      ],
      "text/plain": [
       "          anio  mes  clave_entidad entidad  clave_municipio         municipio  \\\n",
       "11808219  2018   12              6  Colima             6009           Tecomán   \n",
       "11808314  2018   12              6  Colima             6010  Villa de Álvarez   \n",
       "11808315  2018   12              6  Colima             6010  Villa de Álvarez   \n",
       "11808316  2018   12              6  Colima             6010  Villa de Álvarez   \n",
       "11808317  2018   12              6  Colima             6010  Villa de Álvarez   \n",
       "\n",
       "         tipo_delito    subtipo_delito  frecuencia  \n",
       "11808219   Homicidio  Homicidio doloso           0  \n",
       "11808314   Homicidio  Homicidio doloso           3  \n",
       "11808315   Homicidio  Homicidio doloso           2  \n",
       "11808316   Homicidio  Homicidio doloso           0  \n",
       "11808317   Homicidio  Homicidio doloso           0  "
      ]
     },
     "execution_count": 17,
     "metadata": {},
     "output_type": "execute_result"
    }
   ],
   "source": [
    "colima_hom.tail()"
   ]
  },
  {
   "cell_type": "code",
   "execution_count": 18,
   "metadata": {},
   "outputs": [
    {
     "data": {
      "text/html": [
       "<div>\n",
       "<style scoped>\n",
       "    .dataframe tbody tr th:only-of-type {\n",
       "        vertical-align: middle;\n",
       "    }\n",
       "\n",
       "    .dataframe tbody tr th {\n",
       "        vertical-align: top;\n",
       "    }\n",
       "\n",
       "    .dataframe thead th {\n",
       "        text-align: right;\n",
       "    }\n",
       "</style>\n",
       "<table border=\"1\" class=\"dataframe\">\n",
       "  <thead>\n",
       "    <tr style=\"text-align: right;\">\n",
       "      <th></th>\n",
       "      <th>anio</th>\n",
       "      <th>mes</th>\n",
       "      <th>clave_entidad</th>\n",
       "      <th>entidad</th>\n",
       "      <th>clave_municipio</th>\n",
       "      <th>municipio</th>\n",
       "      <th>tipo_delito</th>\n",
       "      <th>subtipo_delito</th>\n",
       "      <th>frecuencia</th>\n",
       "    </tr>\n",
       "  </thead>\n",
       "  <tbody>\n",
       "    <tr>\n",
       "      <td>627004</td>\n",
       "      <td>2018</td>\n",
       "      <td>1</td>\n",
       "      <td>6</td>\n",
       "      <td>Colima</td>\n",
       "      <td>6001</td>\n",
       "      <td>Armería</td>\n",
       "      <td>Homicidio</td>\n",
       "      <td>Homicidio doloso</td>\n",
       "      <td>5</td>\n",
       "    </tr>\n",
       "    <tr>\n",
       "      <td>627005</td>\n",
       "      <td>2018</td>\n",
       "      <td>1</td>\n",
       "      <td>6</td>\n",
       "      <td>Colima</td>\n",
       "      <td>6001</td>\n",
       "      <td>Armería</td>\n",
       "      <td>Homicidio</td>\n",
       "      <td>Homicidio doloso</td>\n",
       "      <td>0</td>\n",
       "    </tr>\n",
       "    <tr>\n",
       "      <td>627006</td>\n",
       "      <td>2018</td>\n",
       "      <td>1</td>\n",
       "      <td>6</td>\n",
       "      <td>Colima</td>\n",
       "      <td>6001</td>\n",
       "      <td>Armería</td>\n",
       "      <td>Homicidio</td>\n",
       "      <td>Homicidio doloso</td>\n",
       "      <td>0</td>\n",
       "    </tr>\n",
       "    <tr>\n",
       "      <td>627007</td>\n",
       "      <td>2018</td>\n",
       "      <td>1</td>\n",
       "      <td>6</td>\n",
       "      <td>Colima</td>\n",
       "      <td>6001</td>\n",
       "      <td>Armería</td>\n",
       "      <td>Homicidio</td>\n",
       "      <td>Homicidio doloso</td>\n",
       "      <td>0</td>\n",
       "    </tr>\n",
       "    <tr>\n",
       "      <td>627102</td>\n",
       "      <td>2018</td>\n",
       "      <td>1</td>\n",
       "      <td>6</td>\n",
       "      <td>Colima</td>\n",
       "      <td>6002</td>\n",
       "      <td>Colima</td>\n",
       "      <td>Homicidio</td>\n",
       "      <td>Homicidio doloso</td>\n",
       "      <td>14</td>\n",
       "    </tr>\n",
       "  </tbody>\n",
       "</table>\n",
       "</div>"
      ],
      "text/plain": [
       "        anio  mes  clave_entidad entidad  clave_municipio municipio  \\\n",
       "627004  2018    1              6  Colima             6001   Armería   \n",
       "627005  2018    1              6  Colima             6001   Armería   \n",
       "627006  2018    1              6  Colima             6001   Armería   \n",
       "627007  2018    1              6  Colima             6001   Armería   \n",
       "627102  2018    1              6  Colima             6002    Colima   \n",
       "\n",
       "       tipo_delito    subtipo_delito  frecuencia  \n",
       "627004   Homicidio  Homicidio doloso           5  \n",
       "627005   Homicidio  Homicidio doloso           0  \n",
       "627006   Homicidio  Homicidio doloso           0  \n",
       "627007   Homicidio  Homicidio doloso           0  \n",
       "627102   Homicidio  Homicidio doloso          14  "
      ]
     },
     "execution_count": 18,
     "metadata": {},
     "output_type": "execute_result"
    }
   ],
   "source": [
    "colima_hom_2018=colima_hom[colima_hom.anio==2018]\n",
    "colima_hom_2018.head()"
   ]
  },
  {
   "cell_type": "code",
   "execution_count": 19,
   "metadata": {},
   "outputs": [
    {
     "data": {
      "text/plain": [
       "480"
      ]
     },
     "execution_count": 19,
     "metadata": {},
     "output_type": "execute_result"
    }
   ],
   "source": [
    "len(colima_hom_2018)"
   ]
  },
  {
   "cell_type": "code",
   "execution_count": 20,
   "metadata": {},
   "outputs": [
    {
     "name": "stdout",
     "output_type": "stream",
     "text": [
      "En el año 2018, en Colima, hubo 616 homicidios dolosos\n"
     ]
    }
   ],
   "source": [
    "print(\"En el año 2018, en Colima, hubo\",sum(colima_hom_2018.frecuencia),\"homicidios dolosos\")"
   ]
  },
  {
   "cell_type": "code",
   "execution_count": 21,
   "metadata": {},
   "outputs": [
    {
     "data": {
      "text/plain": [
       "616"
      ]
     },
     "execution_count": 21,
     "metadata": {},
     "output_type": "execute_result"
    }
   ],
   "source": [
    "hom_colima_2018 = df[(df.entidad==\"Colima\")&(df.anio==2018)&(df.subtipo_delito==\"Homicidio doloso\")]\n",
    "hom_colima_2018.frecuencia.sum()"
   ]
  },
  {
   "cell_type": "markdown",
   "metadata": {},
   "source": [
    "### 4.- Cuantos robos de vehículos automotor ha habido en 2019"
   ]
  },
  {
   "cell_type": "code",
   "execution_count": 22,
   "metadata": {},
   "outputs": [
    {
     "name": "stdout",
     "output_type": "stream",
     "text": [
      "Hubo 111708 robo de vehículos automotor en 2019\n"
     ]
    }
   ],
   "source": [
    "robo_auto=df[(df.subtipo_delito==\"Robo de vehículo automotor\")&(df.anio==2019)]\n",
    "print(\"Hubo\", robo_auto.frecuencia.sum(),\"robo de vehículos automotor en 2019\")"
   ]
  },
  {
   "cell_type": "code",
   "execution_count": 23,
   "metadata": {},
   "outputs": [
    {
     "ename": "AttributeError",
     "evalue": "'list' object has no attribute 'frecuencia'",
     "output_type": "error",
     "traceback": [
      "\u001b[1;31m---------------------------------------------------------------------------\u001b[0m",
      "\u001b[1;31mAttributeError\u001b[0m                            Traceback (most recent call last)",
      "\u001b[1;32m<ipython-input-23-04190b30a327>\u001b[0m in \u001b[0;36m<module>\u001b[1;34m\u001b[0m\n\u001b[0;32m      1\u001b[0m \u001b[0mrobo_auto_cdmx\u001b[0m\u001b[1;33m=\u001b[0m\u001b[1;33m[\u001b[0m\u001b[0mrobo_auto\u001b[0m\u001b[1;33m.\u001b[0m\u001b[0mentidad\u001b[0m\u001b[1;33m==\u001b[0m\u001b[1;34m\"Ciudad de Mexico]\"\u001b[0m\u001b[1;33m]\u001b[0m \u001b[1;31m## esta mal la entidad\u001b[0m\u001b[1;33m\u001b[0m\u001b[1;33m\u001b[0m\u001b[0m\n\u001b[1;32m----> 2\u001b[1;33m \u001b[0mrobo_auto_cdmx\u001b[0m\u001b[1;33m.\u001b[0m\u001b[0mfrecuencia\u001b[0m\u001b[1;33m.\u001b[0m\u001b[0msum\u001b[0m\u001b[1;33m(\u001b[0m\u001b[1;33m)\u001b[0m\u001b[1;33m\u001b[0m\u001b[1;33m\u001b[0m\u001b[0m\n\u001b[0m",
      "\u001b[1;31mAttributeError\u001b[0m: 'list' object has no attribute 'frecuencia'"
     ]
    }
   ],
   "source": [
    "robo_auto_cdmx=[robo_auto.entidad==\"Ciudad de Mexico]\"] ## esta mal la entidad\n",
    "robo_auto_cdmx.frecuencia.sum()"
   ]
  },
  {
   "cell_type": "markdown",
   "metadata": {},
   "source": [
    "### 5.- Obten la suma de homicidos dolosos y feminicidios en toda la República Mexicana en cada año."
   ]
  },
  {
   "cell_type": "code",
   "execution_count": 24,
   "metadata": {},
   "outputs": [],
   "source": [
    "df2=df.groupby([\"anio\",\"subtipo_delito\"]).agg({\"frecuencia\":\"sum\"}).reset_index()"
   ]
  },
  {
   "cell_type": "code",
   "execution_count": 25,
   "metadata": {},
   "outputs": [],
   "source": [
    "df2=df2[(df2.subtipo_delito==\"Homicidio doloso\")|(df2.subtipo_delito==\"Feminicidio\")]"
   ]
  },
  {
   "cell_type": "code",
   "execution_count": 26,
   "metadata": {},
   "outputs": [
    {
     "data": {
      "text/html": [
       "<div>\n",
       "<style scoped>\n",
       "    .dataframe tbody tr th:only-of-type {\n",
       "        vertical-align: middle;\n",
       "    }\n",
       "\n",
       "    .dataframe tbody tr th {\n",
       "        vertical-align: top;\n",
       "    }\n",
       "\n",
       "    .dataframe thead th {\n",
       "        text-align: right;\n",
       "    }\n",
       "</style>\n",
       "<table border=\"1\" class=\"dataframe\">\n",
       "  <thead>\n",
       "    <tr style=\"text-align: right;\">\n",
       "      <th></th>\n",
       "      <th>anio</th>\n",
       "      <th>subtipo_delito</th>\n",
       "      <th>frecuencia</th>\n",
       "    </tr>\n",
       "  </thead>\n",
       "  <tbody>\n",
       "    <tr>\n",
       "      <td>16</td>\n",
       "      <td>2015</td>\n",
       "      <td>Feminicidio</td>\n",
       "      <td>411</td>\n",
       "    </tr>\n",
       "    <tr>\n",
       "      <td>19</td>\n",
       "      <td>2015</td>\n",
       "      <td>Homicidio doloso</td>\n",
       "      <td>16121</td>\n",
       "    </tr>\n",
       "    <tr>\n",
       "      <td>71</td>\n",
       "      <td>2016</td>\n",
       "      <td>Feminicidio</td>\n",
       "      <td>601</td>\n",
       "    </tr>\n",
       "    <tr>\n",
       "      <td>74</td>\n",
       "      <td>2016</td>\n",
       "      <td>Homicidio doloso</td>\n",
       "      <td>20152</td>\n",
       "    </tr>\n",
       "    <tr>\n",
       "      <td>126</td>\n",
       "      <td>2017</td>\n",
       "      <td>Feminicidio</td>\n",
       "      <td>742</td>\n",
       "    </tr>\n",
       "    <tr>\n",
       "      <td>129</td>\n",
       "      <td>2017</td>\n",
       "      <td>Homicidio doloso</td>\n",
       "      <td>25034</td>\n",
       "    </tr>\n",
       "    <tr>\n",
       "      <td>181</td>\n",
       "      <td>2018</td>\n",
       "      <td>Feminicidio</td>\n",
       "      <td>880</td>\n",
       "    </tr>\n",
       "    <tr>\n",
       "      <td>184</td>\n",
       "      <td>2018</td>\n",
       "      <td>Homicidio doloso</td>\n",
       "      <td>29110</td>\n",
       "    </tr>\n",
       "    <tr>\n",
       "      <td>236</td>\n",
       "      <td>2019</td>\n",
       "      <td>Feminicidio</td>\n",
       "      <td>540</td>\n",
       "    </tr>\n",
       "    <tr>\n",
       "      <td>239</td>\n",
       "      <td>2019</td>\n",
       "      <td>Homicidio doloso</td>\n",
       "      <td>17164</td>\n",
       "    </tr>\n",
       "  </tbody>\n",
       "</table>\n",
       "</div>"
      ],
      "text/plain": [
       "     anio    subtipo_delito  frecuencia\n",
       "16   2015       Feminicidio         411\n",
       "19   2015  Homicidio doloso       16121\n",
       "71   2016       Feminicidio         601\n",
       "74   2016  Homicidio doloso       20152\n",
       "126  2017       Feminicidio         742\n",
       "129  2017  Homicidio doloso       25034\n",
       "181  2018       Feminicidio         880\n",
       "184  2018  Homicidio doloso       29110\n",
       "236  2019       Feminicidio         540\n",
       "239  2019  Homicidio doloso       17164"
      ]
     },
     "execution_count": 26,
     "metadata": {},
     "output_type": "execute_result"
    }
   ],
   "source": [
    "df2"
   ]
  },
  {
   "cell_type": "markdown",
   "metadata": {},
   "source": [
    "### 6.¿En qué mes y en qué municipio ha ocurrido el mayor número de feminicidios?"
   ]
  },
  {
   "cell_type": "code",
   "execution_count": 27,
   "metadata": {},
   "outputs": [
    {
     "data": {
      "text/html": [
       "<div>\n",
       "<style scoped>\n",
       "    .dataframe tbody tr th:only-of-type {\n",
       "        vertical-align: middle;\n",
       "    }\n",
       "\n",
       "    .dataframe tbody tr th {\n",
       "        vertical-align: top;\n",
       "    }\n",
       "\n",
       "    .dataframe thead th {\n",
       "        text-align: right;\n",
       "    }\n",
       "</style>\n",
       "<table border=\"1\" class=\"dataframe\">\n",
       "  <thead>\n",
       "    <tr style=\"text-align: right;\">\n",
       "      <th></th>\n",
       "      <th>anio</th>\n",
       "      <th>mes</th>\n",
       "      <th>clave_entidad</th>\n",
       "      <th>entidad</th>\n",
       "      <th>clave_municipio</th>\n",
       "      <th>municipio</th>\n",
       "      <th>tipo_delito</th>\n",
       "      <th>subtipo_delito</th>\n",
       "      <th>frecuencia</th>\n",
       "    </tr>\n",
       "  </thead>\n",
       "  <tbody>\n",
       "    <tr>\n",
       "      <td>18</td>\n",
       "      <td>2015</td>\n",
       "      <td>1</td>\n",
       "      <td>1</td>\n",
       "      <td>Aguascalientes</td>\n",
       "      <td>1001</td>\n",
       "      <td>Aguascalientes</td>\n",
       "      <td>Feminicidio</td>\n",
       "      <td>Feminicidio</td>\n",
       "      <td>0</td>\n",
       "    </tr>\n",
       "    <tr>\n",
       "      <td>19</td>\n",
       "      <td>2015</td>\n",
       "      <td>1</td>\n",
       "      <td>1</td>\n",
       "      <td>Aguascalientes</td>\n",
       "      <td>1001</td>\n",
       "      <td>Aguascalientes</td>\n",
       "      <td>Feminicidio</td>\n",
       "      <td>Feminicidio</td>\n",
       "      <td>0</td>\n",
       "    </tr>\n",
       "    <tr>\n",
       "      <td>20</td>\n",
       "      <td>2015</td>\n",
       "      <td>1</td>\n",
       "      <td>1</td>\n",
       "      <td>Aguascalientes</td>\n",
       "      <td>1001</td>\n",
       "      <td>Aguascalientes</td>\n",
       "      <td>Feminicidio</td>\n",
       "      <td>Feminicidio</td>\n",
       "      <td>0</td>\n",
       "    </tr>\n",
       "    <tr>\n",
       "      <td>21</td>\n",
       "      <td>2015</td>\n",
       "      <td>1</td>\n",
       "      <td>1</td>\n",
       "      <td>Aguascalientes</td>\n",
       "      <td>1001</td>\n",
       "      <td>Aguascalientes</td>\n",
       "      <td>Feminicidio</td>\n",
       "      <td>Feminicidio</td>\n",
       "      <td>0</td>\n",
       "    </tr>\n",
       "    <tr>\n",
       "      <td>116</td>\n",
       "      <td>2015</td>\n",
       "      <td>1</td>\n",
       "      <td>1</td>\n",
       "      <td>Aguascalientes</td>\n",
       "      <td>1002</td>\n",
       "      <td>Asientos</td>\n",
       "      <td>Feminicidio</td>\n",
       "      <td>Feminicidio</td>\n",
       "      <td>0</td>\n",
       "    </tr>\n",
       "  </tbody>\n",
       "</table>\n",
       "</div>"
      ],
      "text/plain": [
       "     anio  mes  clave_entidad         entidad  clave_municipio  \\\n",
       "18   2015    1              1  Aguascalientes             1001   \n",
       "19   2015    1              1  Aguascalientes             1001   \n",
       "20   2015    1              1  Aguascalientes             1001   \n",
       "21   2015    1              1  Aguascalientes             1001   \n",
       "116  2015    1              1  Aguascalientes             1002   \n",
       "\n",
       "          municipio  tipo_delito subtipo_delito  frecuencia  \n",
       "18   Aguascalientes  Feminicidio    Feminicidio           0  \n",
       "19   Aguascalientes  Feminicidio    Feminicidio           0  \n",
       "20   Aguascalientes  Feminicidio    Feminicidio           0  \n",
       "21   Aguascalientes  Feminicidio    Feminicidio           0  \n",
       "116        Asientos  Feminicidio    Feminicidio           0  "
      ]
     },
     "execution_count": 27,
     "metadata": {},
     "output_type": "execute_result"
    }
   ],
   "source": [
    "feminicidios=df[df.subtipo_delito==\"Feminicidio\"]\n",
    "feminicidios.head()"
   ]
  },
  {
   "cell_type": "code",
   "execution_count": 28,
   "metadata": {},
   "outputs": [
    {
     "data": {
      "text/plain": [
       "7"
      ]
     },
     "execution_count": 28,
     "metadata": {},
     "output_type": "execute_result"
    }
   ],
   "source": [
    "feminicidios.frecuencia.max() ## montrrey"
   ]
  },
  {
   "cell_type": "markdown",
   "metadata": {},
   "source": [
    "### ¿En qué año y en qué estado ha ocurrido el mayor número de feminicidios?"
   ]
  },
  {
   "cell_type": "code",
   "execution_count": 29,
   "metadata": {},
   "outputs": [
    {
     "ename": "SyntaxError",
     "evalue": "unexpected EOF while parsing (<ipython-input-29-3739502698c4>, line 1)",
     "output_type": "error",
     "traceback": [
      "\u001b[1;36m  File \u001b[1;32m\"<ipython-input-29-3739502698c4>\"\u001b[1;36m, line \u001b[1;32m1\u001b[0m\n\u001b[1;33m    max_fem_anio=df[df.tipo_delito==\"Feminicidio\"].groupby([\"anio\",\"subtipo_delito\",\"entidad\"]).agg({\"frecuencia\":\"sum\"}).reset_index().sort_values([\"frecuencia\"],ascending=False.iloc[0]\u001b[0m\n\u001b[1;37m                                                                                                                                                                                          ^\u001b[0m\n\u001b[1;31mSyntaxError\u001b[0m\u001b[1;31m:\u001b[0m unexpected EOF while parsing\n"
     ]
    }
   ],
   "source": [
    "max_fem_anio=df[df.tipo_delito==\"Feminicidio\"].groupby([\"anio\",\"subtipo_delito\",\"entidad\"]).agg({\"frecuencia\":\"sum\"}).reset_index().sort_values([\"frecuencia\"],ascending=False.iloc[0]"
   ]
  },
  {
   "cell_type": "markdown",
   "metadata": {},
   "source": [
    "### 8.- ¿Cuál es el municipio de la CDMX con mayor incidencia delictiva?"
   ]
  },
  {
   "cell_type": "code",
   "execution_count": 30,
   "metadata": {},
   "outputs": [],
   "source": [
    "municipio=df[df.entidad==\"Ciudad de México\"] \\\n",
    ".groupby([\"clave_municipio\",\"municipio\"]) \\\n",
    ".agg({\"frecuencia\":\"sum\"}).reset_index().sort_values(\"frecuencia\",ascending=False).head(1)"
   ]
  },
  {
   "cell_type": "code",
   "execution_count": 31,
   "metadata": {},
   "outputs": [
    {
     "data": {
      "text/html": [
       "<div>\n",
       "<style scoped>\n",
       "    .dataframe tbody tr th:only-of-type {\n",
       "        vertical-align: middle;\n",
       "    }\n",
       "\n",
       "    .dataframe tbody tr th {\n",
       "        vertical-align: top;\n",
       "    }\n",
       "\n",
       "    .dataframe thead th {\n",
       "        text-align: right;\n",
       "    }\n",
       "</style>\n",
       "<table border=\"1\" class=\"dataframe\">\n",
       "  <thead>\n",
       "    <tr style=\"text-align: right;\">\n",
       "      <th></th>\n",
       "      <th>clave_municipio</th>\n",
       "      <th>municipio</th>\n",
       "      <th>frecuencia</th>\n",
       "    </tr>\n",
       "  </thead>\n",
       "  <tbody>\n",
       "    <tr>\n",
       "      <td>13</td>\n",
       "      <td>9015</td>\n",
       "      <td>Cuauhtémoc</td>\n",
       "      <td>148600</td>\n",
       "    </tr>\n",
       "  </tbody>\n",
       "</table>\n",
       "</div>"
      ],
      "text/plain": [
       "    clave_municipio   municipio  frecuencia\n",
       "13             9015  Cuauhtémoc      148600"
      ]
     },
     "execution_count": 31,
     "metadata": {},
     "output_type": "execute_result"
    }
   ],
   "source": [
    "municipio"
   ]
  },
  {
   "cell_type": "code",
   "execution_count": 32,
   "metadata": {},
   "outputs": [
    {
     "data": {
      "text/plain": [
       "<BarContainer object of 1 artists>"
      ]
     },
     "execution_count": 32,
     "metadata": {},
     "output_type": "execute_result"
    },
    {
     "data": {
      "image/png": "[encoded data removed]",
      "text/plain": [
       "<Figure size 432x288 with 1 Axes>"
      ]
     },
     "metadata": {
      "needs_background": "light"
     },
     "output_type": "display_data"
    }
   ],
   "source": [
    "puebla=df[df.clave_entidad==21]\n",
    "xicotepec=puebla[puebla.municipio==\"Xicotepec\"]\n",
    "hom_dol_xico=xicotepec[xicotepec.subtipo_delito==\"Homicidio doloso\"].frecuencia.sum()\n",
    "hom_cul_xico=xicotepec[xicotepec.subtipo_delito==\"Homicidio culposo\"].frecuencia.sum()\n",
    "plt.bar([hom_dol_xico],[hom_cul_xico])"
   ]
  },
  {
   "cell_type": "markdown",
   "metadata": {},
   "source": [
    "### Ejercicio 2: Elige 3 estados de la república y grafica una serie de tiempo de la frecuencia abosluta de homicidios dolosos de enero 2015 a julio 2019 en estas tres entidades. Las tres líneas deberán estar en la misma figura."
   ]
  },
  {
   "cell_type": "code",
   "execution_count": 33,
   "metadata": {},
   "outputs": [
    {
     "data": {
      "text/html": [
       "<div>\n",
       "<style scoped>\n",
       "    .dataframe tbody tr th:only-of-type {\n",
       "        vertical-align: middle;\n",
       "    }\n",
       "\n",
       "    .dataframe tbody tr th {\n",
       "        vertical-align: top;\n",
       "    }\n",
       "\n",
       "    .dataframe thead th {\n",
       "        text-align: right;\n",
       "    }\n",
       "</style>\n",
       "<table border=\"1\" class=\"dataframe\">\n",
       "  <thead>\n",
       "    <tr style=\"text-align: right;\">\n",
       "      <th></th>\n",
       "      <th>anio</th>\n",
       "      <th>mes</th>\n",
       "      <th>clave_entidad</th>\n",
       "      <th>entidad</th>\n",
       "      <th>clave_municipio</th>\n",
       "      <th>municipio</th>\n",
       "      <th>tipo_delito</th>\n",
       "      <th>subtipo_delito</th>\n",
       "      <th>frecuencia</th>\n",
       "    </tr>\n",
       "  </thead>\n",
       "  <tbody>\n",
       "    <tr>\n",
       "      <td>25970</td>\n",
       "      <td>2015</td>\n",
       "      <td>1</td>\n",
       "      <td>9</td>\n",
       "      <td>Ciudad de México</td>\n",
       "      <td>9002</td>\n",
       "      <td>Azcapotzalco</td>\n",
       "      <td>Homicidio</td>\n",
       "      <td>Homicidio doloso</td>\n",
       "      <td>4</td>\n",
       "    </tr>\n",
       "    <tr>\n",
       "      <td>25971</td>\n",
       "      <td>2015</td>\n",
       "      <td>1</td>\n",
       "      <td>9</td>\n",
       "      <td>Ciudad de México</td>\n",
       "      <td>9002</td>\n",
       "      <td>Azcapotzalco</td>\n",
       "      <td>Homicidio</td>\n",
       "      <td>Homicidio doloso</td>\n",
       "      <td>1</td>\n",
       "    </tr>\n",
       "    <tr>\n",
       "      <td>25972</td>\n",
       "      <td>2015</td>\n",
       "      <td>1</td>\n",
       "      <td>9</td>\n",
       "      <td>Ciudad de México</td>\n",
       "      <td>9002</td>\n",
       "      <td>Azcapotzalco</td>\n",
       "      <td>Homicidio</td>\n",
       "      <td>Homicidio doloso</td>\n",
       "      <td>2</td>\n",
       "    </tr>\n",
       "    <tr>\n",
       "      <td>25973</td>\n",
       "      <td>2015</td>\n",
       "      <td>1</td>\n",
       "      <td>9</td>\n",
       "      <td>Ciudad de México</td>\n",
       "      <td>9002</td>\n",
       "      <td>Azcapotzalco</td>\n",
       "      <td>Homicidio</td>\n",
       "      <td>Homicidio doloso</td>\n",
       "      <td>0</td>\n",
       "    </tr>\n",
       "    <tr>\n",
       "      <td>26068</td>\n",
       "      <td>2015</td>\n",
       "      <td>1</td>\n",
       "      <td>9</td>\n",
       "      <td>Ciudad de México</td>\n",
       "      <td>9003</td>\n",
       "      <td>Coyoacán</td>\n",
       "      <td>Homicidio</td>\n",
       "      <td>Homicidio doloso</td>\n",
       "      <td>1</td>\n",
       "    </tr>\n",
       "  </tbody>\n",
       "</table>\n",
       "</div>"
      ],
      "text/plain": [
       "       anio  mes  clave_entidad           entidad  clave_municipio  \\\n",
       "25970  2015    1              9  Ciudad de México             9002   \n",
       "25971  2015    1              9  Ciudad de México             9002   \n",
       "25972  2015    1              9  Ciudad de México             9002   \n",
       "25973  2015    1              9  Ciudad de México             9002   \n",
       "26068  2015    1              9  Ciudad de México             9003   \n",
       "\n",
       "          municipio tipo_delito    subtipo_delito  frecuencia  \n",
       "25970  Azcapotzalco   Homicidio  Homicidio doloso           4  \n",
       "25971  Azcapotzalco   Homicidio  Homicidio doloso           1  \n",
       "25972  Azcapotzalco   Homicidio  Homicidio doloso           2  \n",
       "25973  Azcapotzalco   Homicidio  Homicidio doloso           0  \n",
       "26068      Coyoacán   Homicidio  Homicidio doloso           1  "
      ]
     },
     "execution_count": 33,
     "metadata": {},
     "output_type": "execute_result"
    }
   ],
   "source": [
    "df2=df[(df.clave_entidad==20)|(df.clave_entidad==9)|(df.clave_entidad==21)]\n",
    "df2=df2[df2.subtipo_delito==\"Homicidio doloso\"]\n",
    "df2.head()"
   ]
  },
  {
   "cell_type": "code",
   "execution_count": 34,
   "metadata": {},
   "outputs": [
    {
     "data": {
      "text/html": [
       "<div>\n",
       "<style scoped>\n",
       "    .dataframe tbody tr th:only-of-type {\n",
       "        vertical-align: middle;\n",
       "    }\n",
       "\n",
       "    .dataframe tbody tr th {\n",
       "        vertical-align: top;\n",
       "    }\n",
       "\n",
       "    .dataframe thead th {\n",
       "        text-align: right;\n",
       "    }\n",
       "</style>\n",
       "<table border=\"1\" class=\"dataframe\">\n",
       "  <thead>\n",
       "    <tr style=\"text-align: right;\">\n",
       "      <th></th>\n",
       "      <th>anio</th>\n",
       "      <th>mes</th>\n",
       "      <th>clave_entidad</th>\n",
       "      <th>entidad</th>\n",
       "      <th>subtipo_delito</th>\n",
       "      <th>frecuencia</th>\n",
       "    </tr>\n",
       "  </thead>\n",
       "  <tbody>\n",
       "    <tr>\n",
       "      <td>0</td>\n",
       "      <td>2015</td>\n",
       "      <td>1</td>\n",
       "      <td>9</td>\n",
       "      <td>Ciudad de México</td>\n",
       "      <td>Homicidio doloso</td>\n",
       "      <td>55</td>\n",
       "    </tr>\n",
       "    <tr>\n",
       "      <td>1</td>\n",
       "      <td>2015</td>\n",
       "      <td>1</td>\n",
       "      <td>20</td>\n",
       "      <td>Oaxaca</td>\n",
       "      <td>Homicidio doloso</td>\n",
       "      <td>0</td>\n",
       "    </tr>\n",
       "    <tr>\n",
       "      <td>2</td>\n",
       "      <td>2015</td>\n",
       "      <td>1</td>\n",
       "      <td>21</td>\n",
       "      <td>Puebla</td>\n",
       "      <td>Homicidio doloso</td>\n",
       "      <td>39</td>\n",
       "    </tr>\n",
       "    <tr>\n",
       "      <td>3</td>\n",
       "      <td>2015</td>\n",
       "      <td>2</td>\n",
       "      <td>9</td>\n",
       "      <td>Ciudad de México</td>\n",
       "      <td>Homicidio doloso</td>\n",
       "      <td>60</td>\n",
       "    </tr>\n",
       "    <tr>\n",
       "      <td>4</td>\n",
       "      <td>2015</td>\n",
       "      <td>2</td>\n",
       "      <td>20</td>\n",
       "      <td>Oaxaca</td>\n",
       "      <td>Homicidio doloso</td>\n",
       "      <td>47</td>\n",
       "    </tr>\n",
       "  </tbody>\n",
       "</table>\n",
       "</div>"
      ],
      "text/plain": [
       "   anio  mes  clave_entidad           entidad    subtipo_delito  frecuencia\n",
       "0  2015    1              9  Ciudad de México  Homicidio doloso          55\n",
       "1  2015    1             20            Oaxaca  Homicidio doloso           0\n",
       "2  2015    1             21            Puebla  Homicidio doloso          39\n",
       "3  2015    2              9  Ciudad de México  Homicidio doloso          60\n",
       "4  2015    2             20            Oaxaca  Homicidio doloso          47"
      ]
     },
     "execution_count": 34,
     "metadata": {},
     "output_type": "execute_result"
    }
   ],
   "source": [
    "df2=df2.groupby([\"anio\",\"mes\",\"clave_entidad\",\"entidad\",\"subtipo_delito\"]) \\\n",
    ".agg({\"frecuencia\":\"sum\"}) \\\n",
    ".reset_index()\n",
    "df2.head()"
   ]
  },
  {
   "cell_type": "code",
   "execution_count": 35,
   "metadata": {},
   "outputs": [],
   "source": [
    "df2[\"aniomes\"]=df2.apply(lambda row:int(str(row[\"anio\"])+str(row[\"mes\"]).zfill(2)),axis=1)"
   ]
  },
  {
   "cell_type": "code",
   "execution_count": 36,
   "metadata": {},
   "outputs": [
    {
     "data": {
      "text/html": [
       "<div>\n",
       "<style scoped>\n",
       "    .dataframe tbody tr th:only-of-type {\n",
       "        vertical-align: middle;\n",
       "    }\n",
       "\n",
       "    .dataframe tbody tr th {\n",
       "        vertical-align: top;\n",
       "    }\n",
       "\n",
       "    .dataframe thead th {\n",
       "        text-align: right;\n",
       "    }\n",
       "</style>\n",
       "<table border=\"1\" class=\"dataframe\">\n",
       "  <thead>\n",
       "    <tr style=\"text-align: right;\">\n",
       "      <th></th>\n",
       "      <th>anio</th>\n",
       "      <th>mes</th>\n",
       "      <th>clave_entidad</th>\n",
       "      <th>entidad</th>\n",
       "      <th>subtipo_delito</th>\n",
       "      <th>frecuencia</th>\n",
       "      <th>aniomes</th>\n",
       "    </tr>\n",
       "  </thead>\n",
       "  <tbody>\n",
       "    <tr>\n",
       "      <td>0</td>\n",
       "      <td>2015</td>\n",
       "      <td>1</td>\n",
       "      <td>9</td>\n",
       "      <td>Ciudad de México</td>\n",
       "      <td>Homicidio doloso</td>\n",
       "      <td>55</td>\n",
       "      <td>201501</td>\n",
       "    </tr>\n",
       "    <tr>\n",
       "      <td>1</td>\n",
       "      <td>2015</td>\n",
       "      <td>1</td>\n",
       "      <td>20</td>\n",
       "      <td>Oaxaca</td>\n",
       "      <td>Homicidio doloso</td>\n",
       "      <td>0</td>\n",
       "      <td>201501</td>\n",
       "    </tr>\n",
       "    <tr>\n",
       "      <td>2</td>\n",
       "      <td>2015</td>\n",
       "      <td>1</td>\n",
       "      <td>21</td>\n",
       "      <td>Puebla</td>\n",
       "      <td>Homicidio doloso</td>\n",
       "      <td>39</td>\n",
       "      <td>201501</td>\n",
       "    </tr>\n",
       "    <tr>\n",
       "      <td>3</td>\n",
       "      <td>2015</td>\n",
       "      <td>2</td>\n",
       "      <td>9</td>\n",
       "      <td>Ciudad de México</td>\n",
       "      <td>Homicidio doloso</td>\n",
       "      <td>60</td>\n",
       "      <td>201502</td>\n",
       "    </tr>\n",
       "    <tr>\n",
       "      <td>4</td>\n",
       "      <td>2015</td>\n",
       "      <td>2</td>\n",
       "      <td>20</td>\n",
       "      <td>Oaxaca</td>\n",
       "      <td>Homicidio doloso</td>\n",
       "      <td>47</td>\n",
       "      <td>201502</td>\n",
       "    </tr>\n",
       "  </tbody>\n",
       "</table>\n",
       "</div>"
      ],
      "text/plain": [
       "   anio  mes  clave_entidad           entidad    subtipo_delito  frecuencia  \\\n",
       "0  2015    1              9  Ciudad de México  Homicidio doloso          55   \n",
       "1  2015    1             20            Oaxaca  Homicidio doloso           0   \n",
       "2  2015    1             21            Puebla  Homicidio doloso          39   \n",
       "3  2015    2              9  Ciudad de México  Homicidio doloso          60   \n",
       "4  2015    2             20            Oaxaca  Homicidio doloso          47   \n",
       "\n",
       "   aniomes  \n",
       "0   201501  \n",
       "1   201501  \n",
       "2   201501  \n",
       "3   201502  \n",
       "4   201502  "
      ]
     },
     "execution_count": 36,
     "metadata": {},
     "output_type": "execute_result"
    }
   ],
   "source": [
    "df2.head()"
   ]
  },
  {
   "cell_type": "code",
   "execution_count": 37,
   "metadata": {},
   "outputs": [],
   "source": [
    "cdmx=df2[df2.clave_entidad==9]\n",
    "oaxaca=df2[df2.clave_entidad==20]\n",
    "puebla=df2[df2.clave_entidad==21]"
   ]
  },
  {
   "cell_type": "code",
   "execution_count": 38,
   "metadata": {},
   "outputs": [
    {
     "data": {
      "image/png": "[encoded data removed]",
      "text/plain": [
       "<Figure size 1008x504 with 1 Axes>"
      ]
     },
     "metadata": {
      "needs_background": "light"
     },
     "output_type": "display_data"
    }
   ],
   "source": [
    "plt.figure(figsize=(14,7))\n",
    "plt.plot(range(len(cdmx.aniomes)),cdmx.frecuencia,\"b-\",label=\"CDMX\")\n",
    "plt.plot(range(len(oaxaca.aniomes)),oaxaca.frecuencia,\"r-\",label=\"Oaxaca\")\n",
    "plt.plot(range(len(puebla.aniomes)),puebla.frecuencia,\"g-\",label=\"Puebla\")\n",
    "plt.xticks(range(len(cdmx.aniomes)),cdmx.aniomes,rotation=90)\n",
    "plt.legend(loc=\"best\")\n",
    "plt.show()"
   ]
  },
  {
   "cell_type": "markdown",
   "metadata": {},
   "source": [
    "### Ejercicio 3: Haz una gráfica de pastel de tipos de delito.\n",
    "#### Hay muchos tipos de delito y hacer una gráfica de pastel para todos los tipos de delito se vuelve un poco contraproducente porque habrá rebanadas muy grandes y unas muy pequeñas. Por lo tanto, crea un nuevo dataframe en el cual consideres los siguientes tipos de delito:\n",
    "##### Delitos cometidos por servidores públicos\n",
    "##### Abuso sexual\n",
    "##### Falsificación\n",
    "##### Abuso de confianza\n",
    "##### Despojo\n",
    "##### Incumplimiento de obligaciones de asistencia familiar\n",
    "##### Homicidio\n",
    "##### Narcomenudeo\n",
    "##### Fraude\n",
    "##### Amenazas\n",
    "##### Daño a la propiedad\n",
    "##### Violencia familiar\n",
    "##### Otros delitos del Fuero Común\n",
    "##### Lesiones\n",
    "##### Robo\n",
    "##### Y el resto renómbralos a \"otros\"\n",
    "\n",
    "##### Deberás crear una gráfica para cada año. Utilzia la función subplots de matplotlib."
   ]
  },
  {
   "cell_type": "code",
   "execution_count": 51,
   "metadata": {},
   "outputs": [
    {
     "data": {
      "text/plain": [
       "array(['Homicidio', 'Lesiones', 'Feminicidio', 'Aborto',\n",
       "       'Otros delitos que atentan contra la vida y la integridad corporal',\n",
       "       'Secuestro', 'Tráfico de menores', 'Rapto',\n",
       "       'Otros delitos que atentan contra la libertad personal',\n",
       "       'Abuso sexual', 'Acoso sexual', 'Hostigamiento sexual',\n",
       "       'Violación simple', 'Violación equiparada', 'Incesto',\n",
       "       'Otros delitos que atentan contra la libertad y la seguridad sexual',\n",
       "       'Robo', 'Fraude', 'Abuso de confianza', 'Extorsión',\n",
       "       'Daño a la propiedad', 'Despojo',\n",
       "       'Otros delitos contra el patrimonio', 'Violencia familiar',\n",
       "       'Violencia de género en todas sus modalidades distinta a la violencia familiar',\n",
       "       'Incumplimiento de obligaciones de asistencia familiar',\n",
       "       'Otros delitos contra la familia', 'Corrupción de menores',\n",
       "       'Trata de personas', 'Otros delitos contra la sociedad',\n",
       "       'Narcomenudeo', 'Amenazas', 'Allanamiento de morada',\n",
       "       'Evasión de presos', 'Falsedad', 'Falsificación',\n",
       "       'Contra el medio ambiente',\n",
       "       'Delitos cometidos por servidores públicos', 'Electorales',\n",
       "       'Otros delitos del Fuero Común'], dtype=object)"
      ]
     },
     "execution_count": 51,
     "metadata": {},
     "output_type": "execute_result"
    }
   ],
   "source": [
    "df_simp=df.copy()\n",
    "df.simp=df_simp.groupby([\"anio\",\"mes\",\"clave_entiedad\",\"entidad\",\"tipo_delito\"])\n",
    "\n",
    "\"Delitos cometidos por servidores públicos\")| \\\n",
    "       \"Abuso sexual\")| \\\n",
    "       \"Falsificación\")| \\\n",
    "       \"Abuso de confianza\")| \\\n",
    "       \"Despojo\")| \\\n",
    "       \"Incumplimiento de obligaciones de asistencia familiar\")| \\\n",
    "       \"Homicidio\")| \\\n",
    "       \"Narcomenudeo\")| \\\n",
    "       \"Fraude\")| \\\n",
    "       \"Amenazas\")| \\\n",
    "       \"Daño a la propiedad\")| \\\n",
    "       \"Violencia familiar\")| \\\n",
    "       \"Violencia familiar\")| \\\n",
    "\n",
    "Lesiones\n",
    "Robo)]"
   ]
  },
  {
   "cell_type": "code",
   "execution_count": 39,
   "metadata": {},
   "outputs": [],
   "source": [
    "import seaborn as sns"
   ]
  },
  {
   "cell_type": "code",
   "execution_count": 40,
   "metadata": {},
   "outputs": [
    {
     "data": {
      "text/html": [
       "<div>\n",
       "<style scoped>\n",
       "    .dataframe tbody tr th:only-of-type {\n",
       "        vertical-align: middle;\n",
       "    }\n",
       "\n",
       "    .dataframe tbody tr th {\n",
       "        vertical-align: top;\n",
       "    }\n",
       "\n",
       "    .dataframe thead th {\n",
       "        text-align: right;\n",
       "    }\n",
       "</style>\n",
       "<table border=\"1\" class=\"dataframe\">\n",
       "  <thead>\n",
       "    <tr style=\"text-align: right;\">\n",
       "      <th></th>\n",
       "      <th>anio</th>\n",
       "      <th>mes</th>\n",
       "      <th>clave_entidad</th>\n",
       "      <th>entidad</th>\n",
       "      <th>subtipo_delito</th>\n",
       "      <th>frecuencia</th>\n",
       "      <th>aniomes</th>\n",
       "    </tr>\n",
       "  </thead>\n",
       "  <tbody>\n",
       "    <tr>\n",
       "      <td>0</td>\n",
       "      <td>2015</td>\n",
       "      <td>1</td>\n",
       "      <td>9</td>\n",
       "      <td>Ciudad de México</td>\n",
       "      <td>Homicidio doloso</td>\n",
       "      <td>55</td>\n",
       "      <td>201501</td>\n",
       "    </tr>\n",
       "    <tr>\n",
       "      <td>1</td>\n",
       "      <td>2015</td>\n",
       "      <td>1</td>\n",
       "      <td>20</td>\n",
       "      <td>Oaxaca</td>\n",
       "      <td>Homicidio doloso</td>\n",
       "      <td>0</td>\n",
       "      <td>201501</td>\n",
       "    </tr>\n",
       "    <tr>\n",
       "      <td>2</td>\n",
       "      <td>2015</td>\n",
       "      <td>1</td>\n",
       "      <td>21</td>\n",
       "      <td>Puebla</td>\n",
       "      <td>Homicidio doloso</td>\n",
       "      <td>39</td>\n",
       "      <td>201501</td>\n",
       "    </tr>\n",
       "    <tr>\n",
       "      <td>3</td>\n",
       "      <td>2015</td>\n",
       "      <td>2</td>\n",
       "      <td>9</td>\n",
       "      <td>Ciudad de México</td>\n",
       "      <td>Homicidio doloso</td>\n",
       "      <td>60</td>\n",
       "      <td>201502</td>\n",
       "    </tr>\n",
       "    <tr>\n",
       "      <td>4</td>\n",
       "      <td>2015</td>\n",
       "      <td>2</td>\n",
       "      <td>20</td>\n",
       "      <td>Oaxaca</td>\n",
       "      <td>Homicidio doloso</td>\n",
       "      <td>47</td>\n",
       "      <td>201502</td>\n",
       "    </tr>\n",
       "  </tbody>\n",
       "</table>\n",
       "</div>"
      ],
      "text/plain": [
       "   anio  mes  clave_entidad           entidad    subtipo_delito  frecuencia  \\\n",
       "0  2015    1              9  Ciudad de México  Homicidio doloso          55   \n",
       "1  2015    1             20            Oaxaca  Homicidio doloso           0   \n",
       "2  2015    1             21            Puebla  Homicidio doloso          39   \n",
       "3  2015    2              9  Ciudad de México  Homicidio doloso          60   \n",
       "4  2015    2             20            Oaxaca  Homicidio doloso          47   \n",
       "\n",
       "   aniomes  \n",
       "0   201501  \n",
       "1   201501  \n",
       "2   201501  \n",
       "3   201502  \n",
       "4   201502  "
      ]
     },
     "execution_count": 40,
     "metadata": {},
     "output_type": "execute_result"
    }
   ],
   "source": [
    "df2.head()"
   ]
  },
  {
   "cell_type": "code",
   "execution_count": 48,
   "metadata": {},
   "outputs": [
    {
     "data": {
      "text/plain": [
       "(array([2014.5, 2015. , 2015.5, 2016. , 2016.5, 2017. , 2017.5, 2018. ,\n",
       "        2018.5, 2019. , 2019.5]), <a list of 11 Text xticklabel objects>)"
      ]
     },
     "execution_count": 48,
     "metadata": {},
     "output_type": "execute_result"
    },
    {
     "data": {
      "image/png": "[encoded data removed]",
      "text/plain": [
       "<Figure size 432x288 with 1 Axes>"
      ]
     },
     "metadata": {},
     "output_type": "display_data"
    }
   ],
   "source": [
    "sns.set(style=\"darkgrid\")\n",
    "sns.lineplot(\"anio\",\"frecuencia\",data=df2,hue=\"entidad\",palette=\"tab10\")\n",
    "plt.xticks(rotation=45)"
   ]
  },
  {
   "cell_type": "code",
   "execution_count": null,
   "metadata": {},
   "outputs": [],
   "source": []
  }
 ],
 "metadata": {
  "kernelspec": {
   "display_name": "Python 3",
   "language": "python",
   "name": "python3"
  },
  "language_info": {
   "codemirror_mode": {
    "name": "ipython",
    "version": 3
   },
   "file_extension": ".py",
   "mimetype": "text/x-python",
   "name": "python",
   "nbconvert_exporter": "python",
   "pygments_lexer": "ipython3",
   "version": "3.7.4"
  }
 },
 "nbformat": 4,
 "nbformat_minor": 2
}
