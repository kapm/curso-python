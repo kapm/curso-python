{
 "cells": [
  {
   "cell_type": "markdown",
   "metadata": {},
   "source": [
    "## Análisis exploratorio del dataset Titanic\n",
    "\n",
    "#### Práctica final del curso de análisis de datos con Python\n",
    "#### Profesor: Gerardo Mathus\n",
    "---"
   ]
  },
  {
   "cell_type": "markdown",
   "metadata": {},
   "source": [
    "#### Intrucciones: Lee cuidadosamente cada pregunta y escribe el código de Python necesario para contestar cada una. Deberás contestar el examen en un Jupyter Notebook y, al terminar, deberás subirlo a un nuevo repositorio de github que contenga únicamente los datos a utilizar (ver liga de abajo) y el Jupyter Notebook con tus respuestas\n",
    "#### Nota: Todas las visualizaciones deberán hacerse con seaborn ."
   ]
  },
  {
   "cell_type": "markdown",
   "metadata": {},
   "source": [
    "### 1. Importa los datos\n",
    "\n",
    "#### Los datos los puedes descargar de esta liga (https://drive.google.com/file/d/1Ru9l2gfDIyOjJnaor17dOPUGii5SK4mJ/view?usp=sharing)\n",
    "#### Enlace corto: http://tiny.cc/cn9idz (http://tiny.cc/cn9idz)"
   ]
  },
  {
   "cell_type": "code",
   "execution_count": null,
   "metadata": {},
   "outputs": [],
   "source": [
    "import numpy as np\n",
    "import matplotlib as "
   ]
  }
 ],
 "metadata": {
  "kernelspec": {
   "display_name": "Python 3",
   "language": "python",
   "name": "python3"
  },
  "language_info": {
   "codemirror_mode": {
    "name": "ipython",
    "version": 3
   },
   "file_extension": ".py",
   "mimetype": "text/x-python",
   "name": "python",
   "nbconvert_exporter": "python",
   "pygments_lexer": "ipython3",
   "version": "3.7.4"
  }
 },
 "nbformat": 4,
 "nbformat_minor": 2
}
